{
 "cells": [
  {
   "cell_type": "markdown",
   "id": "3b55a3bf",
   "metadata": {},
   "source": [
    "## 3.5 sampling by grid"
   ]
  },
  {
   "cell_type": "markdown",
   "id": "646a6260",
   "metadata": {},
   "source": [
    "### Because the grid can clearly allow users to see the final result, use data that has not been preprocessed (removed by some walk route) here."
   ]
  },
  {
   "cell_type": "code",
   "execution_count": 1,
   "id": "fee71e37",
   "metadata": {},
   "outputs": [],
   "source": [
    "#packages\n",
    "import warnings\n",
    "warnings.filterwarnings(\"ignore\")\n",
    "import gnssmapper as gm\n",
    "import copy\n",
    "import pandas as pd\n",
    "from pandas import DataFrame\n",
    "import numpy as np\n",
    "import geopandas as gpd\n",
    "import math\n",
    "from math import cos,sin\n",
    "import shapely\n",
    "from shapely.geometry import Point,Polygon,shape\n",
    "from shapely.geometry import mapping\n",
    "from datetime import datetime, timedelta\n",
    "import time\n",
    "import matplotlib.pyplot as plt\n",
    "import os\n",
    "\n",
    "import gnss_process\n",
    "import sampling"
   ]
  },
  {
   "cell_type": "markdown",
   "id": "b0ff6820",
   "metadata": {},
   "source": [
    "## read collected raw data by files"
   ]
  },
  {
   "cell_type": "code",
   "execution_count": 2,
   "id": "bc8aedbb",
   "metadata": {},
   "outputs": [],
   "source": [
    "path = r'/Users/jyjy/Desktop/data'\n",
    "filenames =os.listdir(path)\n",
    "\n",
    "for name in filenames:\n",
    "    #ignore .txt in filenames\n",
    "    filenames[filenames.index(name)]=name[:-4]\n",
    "filenames_sort = sorted(filenames)"
   ]
  },
  {
   "cell_type": "code",
   "execution_count": 3,
   "id": "1db0e8b4",
   "metadata": {},
   "outputs": [],
   "source": [
    "#day data\n",
    "names1 = filenames_sort[0:25]\n",
    "#night data\n",
    "names2 = filenames_sort[25:]"
   ]
  },
  {
   "cell_type": "code",
   "execution_count": 4,
   "id": "d28526bf",
   "metadata": {},
   "outputs": [],
   "source": [
    "daydata = [gm.read_gnsslogger(r'/Users/jyjy/Desktop/data/'+name+'.txt') for name in names1]\n",
    "nightdata = [gm.read_gnsslogger(r'/Users/jyjy/Desktop/data/'+name+'.txt') for name in names2]"
   ]
  },
  {
   "cell_type": "code",
   "execution_count": 5,
   "id": "bbc44622",
   "metadata": {},
   "outputs": [],
   "source": [
    "daydata = pd.concat(daydata,axis=0)\n",
    "nightdata = pd.concat(nightdata,axis=0)"
   ]
  },
  {
   "cell_type": "code",
   "execution_count": 6,
   "id": "4d606610",
   "metadata": {},
   "outputs": [
    {
     "data": {
      "text/plain": [
       "32280"
      ]
     },
     "execution_count": 6,
     "metadata": {},
     "output_type": "execute_result"
    }
   ],
   "source": [
    "len(daydata)"
   ]
  },
  {
   "cell_type": "code",
   "execution_count": 7,
   "id": "e4f75cea",
   "metadata": {},
   "outputs": [
    {
     "data": {
      "text/plain": [
       "40155"
      ]
     },
     "execution_count": 7,
     "metadata": {},
     "output_type": "execute_result"
    }
   ],
   "source": [
    "len(nightdata)"
   ]
  },
  {
   "cell_type": "code",
   "execution_count": 8,
   "id": "9a2267fd",
   "metadata": {},
   "outputs": [],
   "source": [
    "#change date form\n",
    "daydata = gnss_process.time_form(daydata)\n",
    "nightdata = gnss_process.time_form(nightdata)"
   ]
  },
  {
   "cell_type": "code",
   "execution_count": 9,
   "id": "aa30da70",
   "metadata": {},
   "outputs": [],
   "source": [
    "#remove invalid satellites\n",
    "daydata = gnss_process.valid_svid(daydata)\n",
    "nightdata = gnss_process.valid_svid(nightdata)"
   ]
  },
  {
   "cell_type": "code",
   "execution_count": 10,
   "id": "e9a00dea",
   "metadata": {},
   "outputs": [],
   "source": [
    "#adjust data format\n",
    "daydata = gnss_process.data_format(daydata)\n",
    "nightdata = gnss_process.data_format(nightdata)"
   ]
  },
  {
   "cell_type": "code",
   "execution_count": 11,
   "id": "0cf95cc8",
   "metadata": {},
   "outputs": [
    {
     "data": {
      "text/html": [
       "<div>\n",
       "<style scoped>\n",
       "    .dataframe tbody tr th:only-of-type {\n",
       "        vertical-align: middle;\n",
       "    }\n",
       "\n",
       "    .dataframe tbody tr th {\n",
       "        vertical-align: top;\n",
       "    }\n",
       "\n",
       "    .dataframe thead th {\n",
       "        text-align: right;\n",
       "    }\n",
       "</style>\n",
       "<table border=\"1\" class=\"dataframe\">\n",
       "  <thead>\n",
       "    <tr style=\"text-align: right;\">\n",
       "      <th></th>\n",
       "      <th>svid</th>\n",
       "      <th>time</th>\n",
       "      <th>Cn0DbHz</th>\n",
       "      <th>geometry</th>\n",
       "    </tr>\n",
       "  </thead>\n",
       "  <tbody>\n",
       "    <tr>\n",
       "      <th>0</th>\n",
       "      <td>G10</td>\n",
       "      <td>2021-08-01 11:51:17</td>\n",
       "      <td>42.878216</td>\n",
       "      <td>POINT Z (109.46416 34.48673 381.00000)</td>\n",
       "    </tr>\n",
       "    <tr>\n",
       "      <th>3</th>\n",
       "      <td>R08</td>\n",
       "      <td>2021-08-01 11:51:17</td>\n",
       "      <td>38.790283</td>\n",
       "      <td>POINT Z (109.46416 34.48673 381.00000)</td>\n",
       "    </tr>\n",
       "    <tr>\n",
       "      <th>4</th>\n",
       "      <td>R07</td>\n",
       "      <td>2021-08-01 11:51:17</td>\n",
       "      <td>37.847214</td>\n",
       "      <td>POINT Z (109.46416 34.48673 381.00000)</td>\n",
       "    </tr>\n",
       "    <tr>\n",
       "      <th>5</th>\n",
       "      <td>R16</td>\n",
       "      <td>2021-08-01 11:51:17</td>\n",
       "      <td>26.089874</td>\n",
       "      <td>POINT Z (109.46416 34.48673 381.00000)</td>\n",
       "    </tr>\n",
       "    <tr>\n",
       "      <th>6</th>\n",
       "      <td>R09</td>\n",
       "      <td>2021-08-01 11:51:17</td>\n",
       "      <td>34.727238</td>\n",
       "      <td>POINT Z (109.46416 34.48673 381.00000)</td>\n",
       "    </tr>\n",
       "  </tbody>\n",
       "</table>\n",
       "</div>"
      ],
      "text/plain": [
       "  svid                time    Cn0DbHz                                geometry\n",
       "0  G10 2021-08-01 11:51:17  42.878216  POINT Z (109.46416 34.48673 381.00000)\n",
       "3  R08 2021-08-01 11:51:17  38.790283  POINT Z (109.46416 34.48673 381.00000)\n",
       "4  R07 2021-08-01 11:51:17  37.847214  POINT Z (109.46416 34.48673 381.00000)\n",
       "5  R16 2021-08-01 11:51:17  26.089874  POINT Z (109.46416 34.48673 381.00000)\n",
       "6  R09 2021-08-01 11:51:17  34.727238  POINT Z (109.46416 34.48673 381.00000)"
      ]
     },
     "execution_count": 11,
     "metadata": {},
     "output_type": "execute_result"
    }
   ],
   "source": [
    "daydata.head()"
   ]
  },
  {
   "cell_type": "code",
   "execution_count": 12,
   "id": "5ac51ea4",
   "metadata": {},
   "outputs": [
    {
     "data": {
      "text/plain": [
       "29626"
      ]
     },
     "execution_count": 12,
     "metadata": {},
     "output_type": "execute_result"
    }
   ],
   "source": [
    "len(daydata)"
   ]
  },
  {
   "cell_type": "code",
   "execution_count": 13,
   "id": "9302ca47",
   "metadata": {},
   "outputs": [
    {
     "data": {
      "text/html": [
       "<div>\n",
       "<style scoped>\n",
       "    .dataframe tbody tr th:only-of-type {\n",
       "        vertical-align: middle;\n",
       "    }\n",
       "\n",
       "    .dataframe tbody tr th {\n",
       "        vertical-align: top;\n",
       "    }\n",
       "\n",
       "    .dataframe thead th {\n",
       "        text-align: right;\n",
       "    }\n",
       "</style>\n",
       "<table border=\"1\" class=\"dataframe\">\n",
       "  <thead>\n",
       "    <tr style=\"text-align: right;\">\n",
       "      <th></th>\n",
       "      <th>svid</th>\n",
       "      <th>time</th>\n",
       "      <th>Cn0DbHz</th>\n",
       "      <th>geometry</th>\n",
       "    </tr>\n",
       "  </thead>\n",
       "  <tbody>\n",
       "    <tr>\n",
       "      <th>0</th>\n",
       "      <td>G01</td>\n",
       "      <td>2021-08-03 00:27:07</td>\n",
       "      <td>21.181335</td>\n",
       "      <td>POINT Z (109.46418 34.48666 381.00000)</td>\n",
       "    </tr>\n",
       "    <tr>\n",
       "      <th>4</th>\n",
       "      <td>R03</td>\n",
       "      <td>2021-08-03 00:27:07</td>\n",
       "      <td>24.641365</td>\n",
       "      <td>POINT Z (109.46418 34.48666 381.00000)</td>\n",
       "    </tr>\n",
       "    <tr>\n",
       "      <th>5</th>\n",
       "      <td>R19</td>\n",
       "      <td>2021-08-03 00:27:07</td>\n",
       "      <td>31.255043</td>\n",
       "      <td>POINT Z (109.46418 34.48666 381.00000)</td>\n",
       "    </tr>\n",
       "    <tr>\n",
       "      <th>6</th>\n",
       "      <td>R16</td>\n",
       "      <td>2021-08-03 00:27:07</td>\n",
       "      <td>17.234669</td>\n",
       "      <td>POINT Z (109.46418 34.48666 381.00000)</td>\n",
       "    </tr>\n",
       "    <tr>\n",
       "      <th>7</th>\n",
       "      <td>R09</td>\n",
       "      <td>2021-08-03 00:27:07</td>\n",
       "      <td>37.303123</td>\n",
       "      <td>POINT Z (109.46418 34.48666 381.00000)</td>\n",
       "    </tr>\n",
       "  </tbody>\n",
       "</table>\n",
       "</div>"
      ],
      "text/plain": [
       "  svid                time    Cn0DbHz                                geometry\n",
       "0  G01 2021-08-03 00:27:07  21.181335  POINT Z (109.46418 34.48666 381.00000)\n",
       "4  R03 2021-08-03 00:27:07  24.641365  POINT Z (109.46418 34.48666 381.00000)\n",
       "5  R19 2021-08-03 00:27:07  31.255043  POINT Z (109.46418 34.48666 381.00000)\n",
       "6  R16 2021-08-03 00:27:07  17.234669  POINT Z (109.46418 34.48666 381.00000)\n",
       "7  R09 2021-08-03 00:27:07  37.303123  POINT Z (109.46418 34.48666 381.00000)"
      ]
     },
     "execution_count": 13,
     "metadata": {},
     "output_type": "execute_result"
    }
   ],
   "source": [
    "nightdata.head()"
   ]
  },
  {
   "cell_type": "code",
   "execution_count": 14,
   "id": "399842a5",
   "metadata": {},
   "outputs": [
    {
     "data": {
      "text/plain": [
       "35565"
      ]
     },
     "execution_count": 14,
     "metadata": {},
     "output_type": "execute_result"
    }
   ],
   "source": [
    "len(nightdata)"
   ]
  },
  {
   "cell_type": "code",
   "execution_count": 15,
   "id": "e0b687d5",
   "metadata": {},
   "outputs": [],
   "source": [
    "data_all = pd.concat([daydata,nightdata])"
   ]
  },
  {
   "cell_type": "code",
   "execution_count": 16,
   "id": "4c4a3f40",
   "metadata": {},
   "outputs": [
    {
     "data": {
      "text/plain": [
       "True"
      ]
     },
     "execution_count": 16,
     "metadata": {},
     "output_type": "execute_result"
    }
   ],
   "source": [
    "#validate,check the lenth\n",
    "len(data_all)==len(daydata)+len(nightdata)"
   ]
  },
  {
   "cell_type": "code",
   "execution_count": 17,
   "id": "bd1f61b9",
   "metadata": {},
   "outputs": [
    {
     "data": {
      "text/html": [
       "<div>\n",
       "<style scoped>\n",
       "    .dataframe tbody tr th:only-of-type {\n",
       "        vertical-align: middle;\n",
       "    }\n",
       "\n",
       "    .dataframe tbody tr th {\n",
       "        vertical-align: top;\n",
       "    }\n",
       "\n",
       "    .dataframe thead th {\n",
       "        text-align: right;\n",
       "    }\n",
       "</style>\n",
       "<table border=\"1\" class=\"dataframe\">\n",
       "  <thead>\n",
       "    <tr style=\"text-align: right;\">\n",
       "      <th></th>\n",
       "      <th>svid</th>\n",
       "      <th>time</th>\n",
       "      <th>Cn0DbHz</th>\n",
       "      <th>geometry</th>\n",
       "    </tr>\n",
       "  </thead>\n",
       "  <tbody>\n",
       "    <tr>\n",
       "      <th>0</th>\n",
       "      <td>G10</td>\n",
       "      <td>2021-08-01 11:51:17</td>\n",
       "      <td>42.878216</td>\n",
       "      <td>POINT Z (109.46416 34.48673 381.00000)</td>\n",
       "    </tr>\n",
       "    <tr>\n",
       "      <th>3</th>\n",
       "      <td>R08</td>\n",
       "      <td>2021-08-01 11:51:17</td>\n",
       "      <td>38.790283</td>\n",
       "      <td>POINT Z (109.46416 34.48673 381.00000)</td>\n",
       "    </tr>\n",
       "    <tr>\n",
       "      <th>4</th>\n",
       "      <td>R07</td>\n",
       "      <td>2021-08-01 11:51:17</td>\n",
       "      <td>37.847214</td>\n",
       "      <td>POINT Z (109.46416 34.48673 381.00000)</td>\n",
       "    </tr>\n",
       "    <tr>\n",
       "      <th>5</th>\n",
       "      <td>R16</td>\n",
       "      <td>2021-08-01 11:51:17</td>\n",
       "      <td>26.089874</td>\n",
       "      <td>POINT Z (109.46416 34.48673 381.00000)</td>\n",
       "    </tr>\n",
       "    <tr>\n",
       "      <th>6</th>\n",
       "      <td>R09</td>\n",
       "      <td>2021-08-01 11:51:17</td>\n",
       "      <td>34.727238</td>\n",
       "      <td>POINT Z (109.46416 34.48673 381.00000)</td>\n",
       "    </tr>\n",
       "  </tbody>\n",
       "</table>\n",
       "</div>"
      ],
      "text/plain": [
       "  svid                time    Cn0DbHz                                geometry\n",
       "0  G10 2021-08-01 11:51:17  42.878216  POINT Z (109.46416 34.48673 381.00000)\n",
       "3  R08 2021-08-01 11:51:17  38.790283  POINT Z (109.46416 34.48673 381.00000)\n",
       "4  R07 2021-08-01 11:51:17  37.847214  POINT Z (109.46416 34.48673 381.00000)\n",
       "5  R16 2021-08-01 11:51:17  26.089874  POINT Z (109.46416 34.48673 381.00000)\n",
       "6  R09 2021-08-01 11:51:17  34.727238  POINT Z (109.46416 34.48673 381.00000)"
      ]
     },
     "execution_count": 17,
     "metadata": {},
     "output_type": "execute_result"
    }
   ],
   "source": [
    "data_all.head()"
   ]
  },
  {
   "cell_type": "code",
   "execution_count": 18,
   "id": "0c43b298",
   "metadata": {},
   "outputs": [],
   "source": [
    "#create map of the building\n",
    "mymap = gpd.read_file('laketower.geojson')\n",
    "mymap['height'] = 0"
   ]
  },
  {
   "cell_type": "markdown",
   "id": "eafdde8e",
   "metadata": {},
   "source": [
    "## 3.5 sampling by grid"
   ]
  },
  {
   "cell_type": "markdown",
   "id": "085a2481",
   "metadata": {},
   "source": [
    "### day data"
   ]
  },
  {
   "cell_type": "code",
   "execution_count": 19,
   "id": "8cac479a",
   "metadata": {},
   "outputs": [],
   "source": [
    "time_start=time.time()\n",
    "day_lon_incre = sampling.grid_increment(daydata,3)[0]\n",
    "day_lat_incre = sampling.grid_increment(daydata,3)[1]"
   ]
  },
  {
   "cell_type": "code",
   "execution_count": 20,
   "id": "0a7a703b",
   "metadata": {},
   "outputs": [],
   "source": [
    "grid_day = sampling.grid_create(daydata,day_lon_incre,day_lat_incre)"
   ]
  },
  {
   "cell_type": "code",
   "execution_count": 21,
   "id": "aa96cfac",
   "metadata": {},
   "outputs": [],
   "source": [
    "#grid of all map from minimum to maximum of \n",
    "#longitude and latituide\n",
    "grid_day_all = grid_day[0]\n",
    "#grid that has intersection with gnss data\n",
    "grid_day_inter = grid_day[1]"
   ]
  },
  {
   "cell_type": "code",
   "execution_count": 22,
   "id": "accfc6b5",
   "metadata": {},
   "outputs": [
    {
     "data": {
      "text/plain": [
       "<AxesSubplot:>"
      ]
     },
     "execution_count": 22,
     "metadata": {},
     "output_type": "execute_result"
    },
    {
     "data": {
      "image/png": "[encoded data removed]",
      "text/plain": [
       "<Figure size 432x288 with 1 Axes>"
      ]
     },
     "metadata": {
      "needs_background": "light"
     },
     "output_type": "display_data"
    }
   ],
   "source": [
    "grid_day_all.plot()"
   ]
  },
  {
   "cell_type": "code",
   "execution_count": 23,
   "id": "3e6e3792",
   "metadata": {},
   "outputs": [
    {
     "data": {
      "text/plain": [
       "<AxesSubplot:>"
      ]
     },
     "execution_count": 23,
     "metadata": {},
     "output_type": "execute_result"
    },
    {
     "data": {
      "image/png": "[encoded data removed]",
      "text/plain": [
       "<Figure size 432x288 with 1 Axes>"
      ]
     },
     "metadata": {
      "needs_background": "light"
     },
     "output_type": "display_data"
    }
   ],
   "source": [
    "grid_day_inter.plot()"
   ]
  },
  {
   "cell_type": "code",
   "execution_count": 24,
   "id": "835f3f43",
   "metadata": {},
   "outputs": [
    {
     "data": {
      "text/html": [
       "<div>\n",
       "<style scoped>\n",
       "    .dataframe tbody tr th:only-of-type {\n",
       "        vertical-align: middle;\n",
       "    }\n",
       "\n",
       "    .dataframe tbody tr th {\n",
       "        vertical-align: top;\n",
       "    }\n",
       "\n",
       "    .dataframe thead th {\n",
       "        text-align: right;\n",
       "    }\n",
       "</style>\n",
       "<table border=\"1\" class=\"dataframe\">\n",
       "  <thead>\n",
       "    <tr style=\"text-align: right;\">\n",
       "      <th></th>\n",
       "      <th>geometry</th>\n",
       "    </tr>\n",
       "  </thead>\n",
       "  <tbody>\n",
       "    <tr>\n",
       "      <th>7</th>\n",
       "      <td>POLYGON ((109.46383 34.48647, 109.46386 34.486...</td>\n",
       "    </tr>\n",
       "    <tr>\n",
       "      <th>8</th>\n",
       "      <td>POLYGON ((109.46383 34.48650, 109.46386 34.486...</td>\n",
       "    </tr>\n",
       "    <tr>\n",
       "      <th>9</th>\n",
       "      <td>POLYGON ((109.46383 34.48652, 109.46386 34.486...</td>\n",
       "    </tr>\n",
       "    <tr>\n",
       "      <th>10</th>\n",
       "      <td>POLYGON ((109.46383 34.48655, 109.46386 34.486...</td>\n",
       "    </tr>\n",
       "    <tr>\n",
       "      <th>11</th>\n",
       "      <td>POLYGON ((109.46383 34.48658, 109.46386 34.486...</td>\n",
       "    </tr>\n",
       "  </tbody>\n",
       "</table>\n",
       "</div>"
      ],
      "text/plain": [
       "                                             geometry\n",
       "7   POLYGON ((109.46383 34.48647, 109.46386 34.486...\n",
       "8   POLYGON ((109.46383 34.48650, 109.46386 34.486...\n",
       "9   POLYGON ((109.46383 34.48652, 109.46386 34.486...\n",
       "10  POLYGON ((109.46383 34.48655, 109.46386 34.486...\n",
       "11  POLYGON ((109.46383 34.48658, 109.46386 34.486..."
      ]
     },
     "execution_count": 24,
     "metadata": {},
     "output_type": "execute_result"
    }
   ],
   "source": [
    "grid_day_inter.head()"
   ]
  },
  {
   "cell_type": "code",
   "execution_count": 25,
   "id": "f1cf5859",
   "metadata": {},
   "outputs": [
    {
     "data": {
      "text/plain": [
       "191"
      ]
     },
     "execution_count": 25,
     "metadata": {},
     "output_type": "execute_result"
    }
   ],
   "source": [
    "len(grid_day_inter)"
   ]
  },
  {
   "cell_type": "code",
   "execution_count": 26,
   "id": "38f8330a",
   "metadata": {},
   "outputs": [],
   "source": [
    "daydata = grid_day[2]"
   ]
  },
  {
   "cell_type": "code",
   "execution_count": 27,
   "id": "792ff6c4",
   "metadata": {},
   "outputs": [
    {
     "name": "stdout",
     "output_type": "stream",
     "text": [
      "run time is:  7.807665824890137\n"
     ]
    }
   ],
   "source": [
    "grids_day = sampling.grid(daydata)\n",
    "time_end=time.time()\n",
    "print('run time is: ',time_end-time_start)"
   ]
  },
  {
   "cell_type": "code",
   "execution_count": 28,
   "id": "9ea1facc",
   "metadata": {},
   "outputs": [
    {
     "data": {
      "text/plain": [
       "191"
      ]
     },
     "execution_count": 28,
     "metadata": {},
     "output_type": "execute_result"
    }
   ],
   "source": [
    "len(grids_day)"
   ]
  },
  {
   "cell_type": "code",
   "execution_count": 29,
   "id": "14eeecee",
   "metadata": {},
   "outputs": [
    {
     "data": {
      "text/html": [
       "<div>\n",
       "<style scoped>\n",
       "    .dataframe tbody tr th:only-of-type {\n",
       "        vertical-align: middle;\n",
       "    }\n",
       "\n",
       "    .dataframe tbody tr th {\n",
       "        vertical-align: top;\n",
       "    }\n",
       "\n",
       "    .dataframe thead th {\n",
       "        text-align: right;\n",
       "    }\n",
       "</style>\n",
       "<table border=\"1\" class=\"dataframe\">\n",
       "  <thead>\n",
       "    <tr style=\"text-align: right;\">\n",
       "      <th></th>\n",
       "      <th>svid</th>\n",
       "      <th>time</th>\n",
       "      <th>Cn0DbHz</th>\n",
       "      <th>geometry</th>\n",
       "      <th>lon_id</th>\n",
       "      <th>lat_id</th>\n",
       "      <th>grid</th>\n",
       "    </tr>\n",
       "  </thead>\n",
       "  <tbody>\n",
       "    <tr>\n",
       "      <th>1805</th>\n",
       "      <td>C06</td>\n",
       "      <td>2021-08-01 12:04:57</td>\n",
       "      <td>38.550568</td>\n",
       "      <td>POINT Z (109.46386 34.48648 381.00000)</td>\n",
       "      <td>0</td>\n",
       "      <td>7</td>\n",
       "      <td>(0, 7)</td>\n",
       "    </tr>\n",
       "    <tr>\n",
       "      <th>1806</th>\n",
       "      <td>C14</td>\n",
       "      <td>2021-08-01 12:04:57</td>\n",
       "      <td>36.920021</td>\n",
       "      <td>POINT Z (109.46386 34.48648 381.00000)</td>\n",
       "      <td>0</td>\n",
       "      <td>7</td>\n",
       "      <td>(0, 7)</td>\n",
       "    </tr>\n",
       "    <tr>\n",
       "      <th>1807</th>\n",
       "      <td>C16</td>\n",
       "      <td>2021-08-01 12:04:57</td>\n",
       "      <td>39.351913</td>\n",
       "      <td>POINT Z (109.46386 34.48648 381.00000)</td>\n",
       "      <td>0</td>\n",
       "      <td>7</td>\n",
       "      <td>(0, 7)</td>\n",
       "    </tr>\n",
       "    <tr>\n",
       "      <th>1808</th>\n",
       "      <td>C25</td>\n",
       "      <td>2021-08-01 12:04:57</td>\n",
       "      <td>29.031887</td>\n",
       "      <td>POINT Z (109.46386 34.48648 381.00000)</td>\n",
       "      <td>0</td>\n",
       "      <td>7</td>\n",
       "      <td>(0, 7)</td>\n",
       "    </tr>\n",
       "    <tr>\n",
       "      <th>1809</th>\n",
       "      <td>C26</td>\n",
       "      <td>2021-08-01 12:04:57</td>\n",
       "      <td>16.146212</td>\n",
       "      <td>POINT Z (109.46386 34.48648 381.00000)</td>\n",
       "      <td>0</td>\n",
       "      <td>7</td>\n",
       "      <td>(0, 7)</td>\n",
       "    </tr>\n",
       "  </tbody>\n",
       "</table>\n",
       "</div>"
      ],
      "text/plain": [
       "     svid                time    Cn0DbHz  \\\n",
       "1805  C06 2021-08-01 12:04:57  38.550568   \n",
       "1806  C14 2021-08-01 12:04:57  36.920021   \n",
       "1807  C16 2021-08-01 12:04:57  39.351913   \n",
       "1808  C25 2021-08-01 12:04:57  29.031887   \n",
       "1809  C26 2021-08-01 12:04:57  16.146212   \n",
       "\n",
       "                                    geometry  lon_id  lat_id    grid  \n",
       "1805  POINT Z (109.46386 34.48648 381.00000)       0       7  (0, 7)  \n",
       "1806  POINT Z (109.46386 34.48648 381.00000)       0       7  (0, 7)  \n",
       "1807  POINT Z (109.46386 34.48648 381.00000)       0       7  (0, 7)  \n",
       "1808  POINT Z (109.46386 34.48648 381.00000)       0       7  (0, 7)  \n",
       "1809  POINT Z (109.46386 34.48648 381.00000)       0       7  (0, 7)  "
      ]
     },
     "execution_count": 29,
     "metadata": {},
     "output_type": "execute_result"
    }
   ],
   "source": [
    "grids_day[0].head()"
   ]
  },
  {
   "cell_type": "code",
   "execution_count": 30,
   "id": "a0b7ecbd",
   "metadata": {},
   "outputs": [],
   "source": [
    "#building ray observations by using gnssmapper\n",
    "dayob = [0]*len(daydata['grid'].unique())\n",
    "for i in range (len(daydata['grid'].unique())):\n",
    "    dayob[i] = gm.observe(grids_day[i])"
   ]
  },
  {
   "cell_type": "code",
   "execution_count": 31,
   "id": "4b3052b8",
   "metadata": {},
   "outputs": [],
   "source": [
    "#height of building of each grid's data\n",
    "dayheight = [0]*len(daydata['grid'].unique())\n",
    "for i in range(len(daydata['grid'].unique())):\n",
    "    dayheight[i] = gm.predict(mymap,dayob[i].sort_values(by='Cn0DbHz'))"
   ]
  },
  {
   "cell_type": "code",
   "execution_count": 32,
   "id": "db608fd9",
   "metadata": {},
   "outputs": [
    {
     "data": {
      "text/plain": [
       "191"
      ]
     },
     "execution_count": 32,
     "metadata": {},
     "output_type": "execute_result"
    }
   ],
   "source": [
    "len(dayheight)"
   ]
  },
  {
   "cell_type": "code",
   "execution_count": 33,
   "id": "03058f0f",
   "metadata": {},
   "outputs": [],
   "source": [
    "#combine to form dataframe\n",
    "dayheight = pd.DataFrame(pd.concat(dayheight[i] for i in range(len(daydata['grid'].unique()))))"
   ]
  },
  {
   "cell_type": "code",
   "execution_count": 34,
   "id": "089efe61",
   "metadata": {},
   "outputs": [
    {
     "data": {
      "text/html": [
       "<div>\n",
       "<style scoped>\n",
       "    .dataframe tbody tr th:only-of-type {\n",
       "        vertical-align: middle;\n",
       "    }\n",
       "\n",
       "    .dataframe tbody tr th {\n",
       "        vertical-align: top;\n",
       "    }\n",
       "\n",
       "    .dataframe thead th {\n",
       "        text-align: right;\n",
       "    }\n",
       "</style>\n",
       "<table border=\"1\" class=\"dataframe\">\n",
       "  <thead>\n",
       "    <tr style=\"text-align: right;\">\n",
       "      <th></th>\n",
       "      <th>index</th>\n",
       "      <th>lower_bound</th>\n",
       "      <th>mid_point</th>\n",
       "      <th>upper_bound</th>\n",
       "    </tr>\n",
       "  </thead>\n",
       "  <tbody>\n",
       "    <tr>\n",
       "      <th>0</th>\n",
       "      <td>0</td>\n",
       "      <td>392.065072</td>\n",
       "      <td>392.391668</td>\n",
       "      <td>392.718264</td>\n",
       "    </tr>\n",
       "    <tr>\n",
       "      <th>1</th>\n",
       "      <td>0</td>\n",
       "      <td>428.085824</td>\n",
       "      <td>428.963848</td>\n",
       "      <td>429.841871</td>\n",
       "    </tr>\n",
       "    <tr>\n",
       "      <th>2</th>\n",
       "      <td>0</td>\n",
       "      <td>406.853419</td>\n",
       "      <td>407.205114</td>\n",
       "      <td>407.556810</td>\n",
       "    </tr>\n",
       "    <tr>\n",
       "      <th>3</th>\n",
       "      <td>0</td>\n",
       "      <td>399.149112</td>\n",
       "      <td>399.505533</td>\n",
       "      <td>399.861953</td>\n",
       "    </tr>\n",
       "    <tr>\n",
       "      <th>4</th>\n",
       "      <td>0</td>\n",
       "      <td>431.897472</td>\n",
       "      <td>432.332609</td>\n",
       "      <td>432.767747</td>\n",
       "    </tr>\n",
       "  </tbody>\n",
       "</table>\n",
       "</div>"
      ],
      "text/plain": [
       "   index  lower_bound   mid_point  upper_bound\n",
       "0      0   392.065072  392.391668   392.718264\n",
       "1      0   428.085824  428.963848   429.841871\n",
       "2      0   406.853419  407.205114   407.556810\n",
       "3      0   399.149112  399.505533   399.861953\n",
       "4      0   431.897472  432.332609   432.767747"
      ]
     },
     "execution_count": 34,
     "metadata": {},
     "output_type": "execute_result"
    }
   ],
   "source": [
    "dayheight=dayheight.reset_index()\n",
    "dayheight.head()"
   ]
  },
  {
   "cell_type": "code",
   "execution_count": 35,
   "id": "d4060389",
   "metadata": {},
   "outputs": [
    {
     "data": {
      "text/html": [
       "<div>\n",
       "<style scoped>\n",
       "    .dataframe tbody tr th:only-of-type {\n",
       "        vertical-align: middle;\n",
       "    }\n",
       "\n",
       "    .dataframe tbody tr th {\n",
       "        vertical-align: top;\n",
       "    }\n",
       "\n",
       "    .dataframe thead th {\n",
       "        text-align: right;\n",
       "    }\n",
       "</style>\n",
       "<table border=\"1\" class=\"dataframe\">\n",
       "  <thead>\n",
       "    <tr style=\"text-align: right;\">\n",
       "      <th></th>\n",
       "      <th>index</th>\n",
       "      <th>geometry</th>\n",
       "    </tr>\n",
       "  </thead>\n",
       "  <tbody>\n",
       "    <tr>\n",
       "      <th>0</th>\n",
       "      <td>7</td>\n",
       "      <td>POLYGON ((109.46383 34.48647, 109.46386 34.486...</td>\n",
       "    </tr>\n",
       "    <tr>\n",
       "      <th>1</th>\n",
       "      <td>8</td>\n",
       "      <td>POLYGON ((109.46383 34.48650, 109.46386 34.486...</td>\n",
       "    </tr>\n",
       "    <tr>\n",
       "      <th>2</th>\n",
       "      <td>9</td>\n",
       "      <td>POLYGON ((109.46383 34.48652, 109.46386 34.486...</td>\n",
       "    </tr>\n",
       "    <tr>\n",
       "      <th>3</th>\n",
       "      <td>10</td>\n",
       "      <td>POLYGON ((109.46383 34.48655, 109.46386 34.486...</td>\n",
       "    </tr>\n",
       "    <tr>\n",
       "      <th>4</th>\n",
       "      <td>11</td>\n",
       "      <td>POLYGON ((109.46383 34.48658, 109.46386 34.486...</td>\n",
       "    </tr>\n",
       "  </tbody>\n",
       "</table>\n",
       "</div>"
      ],
      "text/plain": [
       "   index                                           geometry\n",
       "0      7  POLYGON ((109.46383 34.48647, 109.46386 34.486...\n",
       "1      8  POLYGON ((109.46383 34.48650, 109.46386 34.486...\n",
       "2      9  POLYGON ((109.46383 34.48652, 109.46386 34.486...\n",
       "3     10  POLYGON ((109.46383 34.48655, 109.46386 34.486...\n",
       "4     11  POLYGON ((109.46383 34.48658, 109.46386 34.486..."
      ]
     },
     "execution_count": 35,
     "metadata": {},
     "output_type": "execute_result"
    }
   ],
   "source": [
    "grid_day_inter = grid_day_inter.reset_index()\n",
    "grid_day_inter.head()"
   ]
  },
  {
   "cell_type": "code",
   "execution_count": 36,
   "id": "40d56b1d",
   "metadata": {},
   "outputs": [],
   "source": [
    "#add height columns\n",
    "grid_day_inter['height_lower']=dayheight.lower_bound\n",
    "grid_day_inter['height_mid']=dayheight.mid_point\n",
    "grid_day_inter['height_upper']=dayheight.upper_bound"
   ]
  },
  {
   "cell_type": "code",
   "execution_count": 40,
   "id": "653aa366",
   "metadata": {},
   "outputs": [
    {
     "data": {
      "image/png": "[encoded data removed]",
      "text/plain": [
       "<Figure size 432x288 with 2 Axes>"
      ]
     },
     "metadata": {
      "needs_background": "light"
     },
     "output_type": "display_data"
    }
   ],
   "source": [
    "ax = grid_day_inter.plot(\n",
    "    column='height_lower',# Data to plot\n",
    "    cmap='rainbow',# Color palette\n",
    "    legend=True)\n",
    "plt.title('estimated height in each grid by day data')\n",
    "ax.set_axis_off();\n",
    "plt.savefig('daygrid_all.jpg')"
   ]
  },
  {
   "cell_type": "markdown",
   "id": "622c1f5c",
   "metadata": {},
   "source": [
    "### night data"
   ]
  },
  {
   "cell_type": "code",
   "execution_count": 41,
   "id": "f2b77b4a",
   "metadata": {},
   "outputs": [
    {
     "name": "stdout",
     "output_type": "stream",
     "text": [
      "                                            geometry\n",
      "1  POLYGON ((109.46384 34.48632, 109.46387 34.486...\n",
      "2  POLYGON ((109.46384 34.48635, 109.46387 34.486...\n",
      "4  POLYGON ((109.46384 34.48640, 109.46387 34.486...\n",
      "5  POLYGON ((109.46384 34.48643, 109.46387 34.486...\n",
      "6  POLYGON ((109.46384 34.48646, 109.46387 34.486...\n",
      "209\n",
      "run time is:  9.484426021575928\n"
     ]
    },
    {
     "data": {
      "image/png": "[encoded data removed]",
      "text/plain": [
       "<Figure size 432x288 with 1 Axes>"
      ]
     },
     "metadata": {
      "needs_background": "light"
     },
     "output_type": "display_data"
    },
    {
     "data": {
      "image/png": "[encoded data removed]",
      "text/plain": [
       "<Figure size 432x288 with 1 Axes>"
      ]
     },
     "metadata": {
      "needs_background": "light"
     },
     "output_type": "display_data"
    }
   ],
   "source": [
    "time_start=time.time()\n",
    "night_lon_incre = sampling.grid_increment(nightdata,3)[0]\n",
    "night_lat_incre = sampling.grid_increment(nightdata,3)[1]\n",
    "grid_night = sampling.grid_create(nightdata,night_lon_incre,night_lat_incre)\n",
    "\n",
    "#grid of all map from minimum to maximum of \n",
    "#longitude and latituide\n",
    "grid_night_all = grid_night[0]\n",
    "#grid that has intersection with gnss data\n",
    "grid_night_inter = grid_night[1]\n",
    "grid_night_all.plot()\n",
    "grid_night_inter.plot()\n",
    "\n",
    "print(grid_night_inter.head())\n",
    "print(len(grid_night_inter))\n",
    "nightdata = grid_night[2]\n",
    "\n",
    "grids_night = sampling.grid(nightdata)\n",
    "time_end=time.time()\n",
    "print('run time is: ',time_end-time_start)"
   ]
  },
  {
   "cell_type": "code",
   "execution_count": 42,
   "id": "fa9cb7d9",
   "metadata": {},
   "outputs": [
    {
     "data": {
      "text/plain": [
       "209"
      ]
     },
     "execution_count": 42,
     "metadata": {},
     "output_type": "execute_result"
    }
   ],
   "source": [
    "len(grids_night)"
   ]
  },
  {
   "cell_type": "code",
   "execution_count": 43,
   "id": "c87b77fc",
   "metadata": {},
   "outputs": [
    {
     "data": {
      "text/html": [
       "<div>\n",
       "<style scoped>\n",
       "    .dataframe tbody tr th:only-of-type {\n",
       "        vertical-align: middle;\n",
       "    }\n",
       "\n",
       "    .dataframe tbody tr th {\n",
       "        vertical-align: top;\n",
       "    }\n",
       "\n",
       "    .dataframe thead th {\n",
       "        text-align: right;\n",
       "    }\n",
       "</style>\n",
       "<table border=\"1\" class=\"dataframe\">\n",
       "  <thead>\n",
       "    <tr style=\"text-align: right;\">\n",
       "      <th></th>\n",
       "      <th>svid</th>\n",
       "      <th>time</th>\n",
       "      <th>Cn0DbHz</th>\n",
       "      <th>geometry</th>\n",
       "      <th>lon_id</th>\n",
       "      <th>lat_id</th>\n",
       "      <th>grid</th>\n",
       "    </tr>\n",
       "  </thead>\n",
       "  <tbody>\n",
       "    <tr>\n",
       "      <th>0</th>\n",
       "      <td>G01</td>\n",
       "      <td>2021-08-03 00:58:50</td>\n",
       "      <td>44.188309</td>\n",
       "      <td>POINT Z (109.46387 34.48634 381.00000)</td>\n",
       "      <td>0</td>\n",
       "      <td>1</td>\n",
       "      <td>(0, 1)</td>\n",
       "    </tr>\n",
       "    <tr>\n",
       "      <th>1</th>\n",
       "      <td>C36</td>\n",
       "      <td>2021-08-03 00:58:50</td>\n",
       "      <td>30.289864</td>\n",
       "      <td>POINT Z (109.46387 34.48634 381.00000)</td>\n",
       "      <td>0</td>\n",
       "      <td>1</td>\n",
       "      <td>(0, 1)</td>\n",
       "    </tr>\n",
       "    <tr>\n",
       "      <th>2</th>\n",
       "      <td>C33</td>\n",
       "      <td>2021-08-03 00:58:50</td>\n",
       "      <td>27.214245</td>\n",
       "      <td>POINT Z (109.46387 34.48634 381.00000)</td>\n",
       "      <td>0</td>\n",
       "      <td>1</td>\n",
       "      <td>(0, 1)</td>\n",
       "    </tr>\n",
       "    <tr>\n",
       "      <th>3</th>\n",
       "      <td>C32</td>\n",
       "      <td>2021-08-03 00:58:50</td>\n",
       "      <td>36.816181</td>\n",
       "      <td>POINT Z (109.46387 34.48634 381.00000)</td>\n",
       "      <td>0</td>\n",
       "      <td>1</td>\n",
       "      <td>(0, 1)</td>\n",
       "    </tr>\n",
       "    <tr>\n",
       "      <th>4</th>\n",
       "      <td>C30</td>\n",
       "      <td>2021-08-03 00:58:50</td>\n",
       "      <td>31.582380</td>\n",
       "      <td>POINT Z (109.46387 34.48634 381.00000)</td>\n",
       "      <td>0</td>\n",
       "      <td>1</td>\n",
       "      <td>(0, 1)</td>\n",
       "    </tr>\n",
       "  </tbody>\n",
       "</table>\n",
       "</div>"
      ],
      "text/plain": [
       "  svid                time    Cn0DbHz                                geometry  \\\n",
       "0  G01 2021-08-03 00:58:50  44.188309  POINT Z (109.46387 34.48634 381.00000)   \n",
       "1  C36 2021-08-03 00:58:50  30.289864  POINT Z (109.46387 34.48634 381.00000)   \n",
       "2  C33 2021-08-03 00:58:50  27.214245  POINT Z (109.46387 34.48634 381.00000)   \n",
       "3  C32 2021-08-03 00:58:50  36.816181  POINT Z (109.46387 34.48634 381.00000)   \n",
       "4  C30 2021-08-03 00:58:50  31.582380  POINT Z (109.46387 34.48634 381.00000)   \n",
       "\n",
       "   lon_id  lat_id    grid  \n",
       "0       0       1  (0, 1)  \n",
       "1       0       1  (0, 1)  \n",
       "2       0       1  (0, 1)  \n",
       "3       0       1  (0, 1)  \n",
       "4       0       1  (0, 1)  "
      ]
     },
     "execution_count": 43,
     "metadata": {},
     "output_type": "execute_result"
    }
   ],
   "source": [
    "grids_night[0].head()"
   ]
  },
  {
   "cell_type": "code",
   "execution_count": 44,
   "id": "f80a5f0a",
   "metadata": {},
   "outputs": [],
   "source": [
    "#building ray observations by using gnssmapper\n",
    "nightob = [0]*len(nightdata['grid'].unique())\n",
    "for i in range (len(nightdata['grid'].unique())):\n",
    "    nightob[i] = gm.observe(grids_night[i])"
   ]
  },
  {
   "cell_type": "code",
   "execution_count": 45,
   "id": "2f3ffb38",
   "metadata": {},
   "outputs": [],
   "source": [
    "#height of building of each grid's data\n",
    "nightheight = [0]*len(nightdata['grid'].unique())\n",
    "for i in range(len(nightdata['grid'].unique())):\n",
    "    nightheight[i] = gm.predict(mymap,nightob[i].sort_values(by='Cn0DbHz'))"
   ]
  },
  {
   "cell_type": "code",
   "execution_count": 47,
   "id": "69e39b34",
   "metadata": {},
   "outputs": [],
   "source": [
    "len(nightheight)\n",
    "#combine to form dataframe\n",
    "nightheight = pd.DataFrame(pd.concat(nightheight[i] for i in range(len(nightdata['grid'].unique()))))"
   ]
  },
  {
   "cell_type": "code",
   "execution_count": 48,
   "id": "f242b535",
   "metadata": {},
   "outputs": [
    {
     "data": {
      "text/html": [
       "<div>\n",
       "<style scoped>\n",
       "    .dataframe tbody tr th:only-of-type {\n",
       "        vertical-align: middle;\n",
       "    }\n",
       "\n",
       "    .dataframe tbody tr th {\n",
       "        vertical-align: top;\n",
       "    }\n",
       "\n",
       "    .dataframe thead th {\n",
       "        text-align: right;\n",
       "    }\n",
       "</style>\n",
       "<table border=\"1\" class=\"dataframe\">\n",
       "  <thead>\n",
       "    <tr style=\"text-align: right;\">\n",
       "      <th></th>\n",
       "      <th>index</th>\n",
       "      <th>lower_bound</th>\n",
       "      <th>mid_point</th>\n",
       "      <th>upper_bound</th>\n",
       "    </tr>\n",
       "  </thead>\n",
       "  <tbody>\n",
       "    <tr>\n",
       "      <th>0</th>\n",
       "      <td>0</td>\n",
       "      <td>384.668112</td>\n",
       "      <td>384.916117</td>\n",
       "      <td>385.164121</td>\n",
       "    </tr>\n",
       "    <tr>\n",
       "      <th>1</th>\n",
       "      <td>0</td>\n",
       "      <td>406.672695</td>\n",
       "      <td>407.816594</td>\n",
       "      <td>408.960492</td>\n",
       "    </tr>\n",
       "    <tr>\n",
       "      <th>2</th>\n",
       "      <td>0</td>\n",
       "      <td>399.002414</td>\n",
       "      <td>399.342909</td>\n",
       "      <td>399.683403</td>\n",
       "    </tr>\n",
       "    <tr>\n",
       "      <th>3</th>\n",
       "      <td>0</td>\n",
       "      <td>411.485688</td>\n",
       "      <td>411.710558</td>\n",
       "      <td>411.935428</td>\n",
       "    </tr>\n",
       "    <tr>\n",
       "      <th>4</th>\n",
       "      <td>0</td>\n",
       "      <td>415.805952</td>\n",
       "      <td>417.567862</td>\n",
       "      <td>419.329771</td>\n",
       "    </tr>\n",
       "  </tbody>\n",
       "</table>\n",
       "</div>"
      ],
      "text/plain": [
       "   index  lower_bound   mid_point  upper_bound\n",
       "0      0   384.668112  384.916117   385.164121\n",
       "1      0   406.672695  407.816594   408.960492\n",
       "2      0   399.002414  399.342909   399.683403\n",
       "3      0   411.485688  411.710558   411.935428\n",
       "4      0   415.805952  417.567862   419.329771"
      ]
     },
     "execution_count": 48,
     "metadata": {},
     "output_type": "execute_result"
    }
   ],
   "source": [
    "nightheight=nightheight.reset_index()\n",
    "nightheight.head()"
   ]
  },
  {
   "cell_type": "code",
   "execution_count": 49,
   "id": "dc6a50dc",
   "metadata": {},
   "outputs": [
    {
     "data": {
      "text/html": [
       "<div>\n",
       "<style scoped>\n",
       "    .dataframe tbody tr th:only-of-type {\n",
       "        vertical-align: middle;\n",
       "    }\n",
       "\n",
       "    .dataframe tbody tr th {\n",
       "        vertical-align: top;\n",
       "    }\n",
       "\n",
       "    .dataframe thead th {\n",
       "        text-align: right;\n",
       "    }\n",
       "</style>\n",
       "<table border=\"1\" class=\"dataframe\">\n",
       "  <thead>\n",
       "    <tr style=\"text-align: right;\">\n",
       "      <th></th>\n",
       "      <th>index</th>\n",
       "      <th>geometry</th>\n",
       "    </tr>\n",
       "  </thead>\n",
       "  <tbody>\n",
       "    <tr>\n",
       "      <th>0</th>\n",
       "      <td>1</td>\n",
       "      <td>POLYGON ((109.46384 34.48632, 109.46387 34.486...</td>\n",
       "    </tr>\n",
       "    <tr>\n",
       "      <th>1</th>\n",
       "      <td>2</td>\n",
       "      <td>POLYGON ((109.46384 34.48635, 109.46387 34.486...</td>\n",
       "    </tr>\n",
       "    <tr>\n",
       "      <th>2</th>\n",
       "      <td>4</td>\n",
       "      <td>POLYGON ((109.46384 34.48640, 109.46387 34.486...</td>\n",
       "    </tr>\n",
       "    <tr>\n",
       "      <th>3</th>\n",
       "      <td>5</td>\n",
       "      <td>POLYGON ((109.46384 34.48643, 109.46387 34.486...</td>\n",
       "    </tr>\n",
       "    <tr>\n",
       "      <th>4</th>\n",
       "      <td>6</td>\n",
       "      <td>POLYGON ((109.46384 34.48646, 109.46387 34.486...</td>\n",
       "    </tr>\n",
       "  </tbody>\n",
       "</table>\n",
       "</div>"
      ],
      "text/plain": [
       "   index                                           geometry\n",
       "0      1  POLYGON ((109.46384 34.48632, 109.46387 34.486...\n",
       "1      2  POLYGON ((109.46384 34.48635, 109.46387 34.486...\n",
       "2      4  POLYGON ((109.46384 34.48640, 109.46387 34.486...\n",
       "3      5  POLYGON ((109.46384 34.48643, 109.46387 34.486...\n",
       "4      6  POLYGON ((109.46384 34.48646, 109.46387 34.486..."
      ]
     },
     "execution_count": 49,
     "metadata": {},
     "output_type": "execute_result"
    }
   ],
   "source": [
    "grid_night_inter = grid_night_inter.reset_index()\n",
    "grid_night_inter.head()"
   ]
  },
  {
   "cell_type": "code",
   "execution_count": 50,
   "id": "c24cb243",
   "metadata": {},
   "outputs": [
    {
     "data": {
      "text/plain": [
       "209"
      ]
     },
     "execution_count": 50,
     "metadata": {},
     "output_type": "execute_result"
    }
   ],
   "source": [
    "len(nightheight)"
   ]
  },
  {
   "cell_type": "code",
   "execution_count": 51,
   "id": "8c5ffc90",
   "metadata": {},
   "outputs": [],
   "source": [
    "#add height columns\n",
    "grid_night_inter['height_lower']=nightheight.lower_bound\n",
    "grid_night_inter['height_mid']=nightheight.mid_point\n",
    "grid_night_inter['height_upper']=nightheight.upper_bound"
   ]
  },
  {
   "cell_type": "code",
   "execution_count": 53,
   "id": "208eb7b5",
   "metadata": {},
   "outputs": [
    {
     "data": {
      "image/png": "[encoded data removed]",
      "text/plain": [
       "<Figure size 432x288 with 2 Axes>"
      ]
     },
     "metadata": {
      "needs_background": "light"
     },
     "output_type": "display_data"
    }
   ],
   "source": [
    "ax = grid_night_inter.plot(\n",
    "    column='height_lower',# Data to plot\n",
    "    cmap='rainbow',# Color palette\n",
    "    legend=True)\n",
    "plt.title('estimated height in each grid by night data')\n",
    "ax.set_axis_off();\n",
    "plt.savefig('nightgrid_all.jpg')"
   ]
  },
  {
   "cell_type": "markdown",
   "id": "bd65ecd4",
   "metadata": {},
   "source": [
    "## all data"
   ]
  },
  {
   "cell_type": "code",
   "execution_count": 67,
   "id": "8e8ff420",
   "metadata": {},
   "outputs": [
    {
     "data": {
      "text/html": [
       "<div>\n",
       "<style scoped>\n",
       "    .dataframe tbody tr th:only-of-type {\n",
       "        vertical-align: middle;\n",
       "    }\n",
       "\n",
       "    .dataframe tbody tr th {\n",
       "        vertical-align: top;\n",
       "    }\n",
       "\n",
       "    .dataframe thead th {\n",
       "        text-align: right;\n",
       "    }\n",
       "</style>\n",
       "<table border=\"1\" class=\"dataframe\">\n",
       "  <thead>\n",
       "    <tr style=\"text-align: right;\">\n",
       "      <th></th>\n",
       "      <th>index</th>\n",
       "      <th>geometry</th>\n",
       "      <th>height_lower</th>\n",
       "      <th>height_mid</th>\n",
       "      <th>height_upper</th>\n",
       "    </tr>\n",
       "  </thead>\n",
       "  <tbody>\n",
       "    <tr>\n",
       "      <th>0</th>\n",
       "      <td>1</td>\n",
       "      <td>POLYGON ((109.46384 34.48632, 109.46387 34.486...</td>\n",
       "      <td>384.668112</td>\n",
       "      <td>384.916117</td>\n",
       "      <td>385.164121</td>\n",
       "    </tr>\n",
       "    <tr>\n",
       "      <th>1</th>\n",
       "      <td>2</td>\n",
       "      <td>POLYGON ((109.46384 34.48635, 109.46387 34.486...</td>\n",
       "      <td>406.672695</td>\n",
       "      <td>407.816594</td>\n",
       "      <td>408.960492</td>\n",
       "    </tr>\n",
       "    <tr>\n",
       "      <th>2</th>\n",
       "      <td>4</td>\n",
       "      <td>POLYGON ((109.46384 34.48640, 109.46387 34.486...</td>\n",
       "      <td>399.002414</td>\n",
       "      <td>399.342909</td>\n",
       "      <td>399.683403</td>\n",
       "    </tr>\n",
       "    <tr>\n",
       "      <th>3</th>\n",
       "      <td>5</td>\n",
       "      <td>POLYGON ((109.46384 34.48643, 109.46387 34.486...</td>\n",
       "      <td>411.485688</td>\n",
       "      <td>411.710558</td>\n",
       "      <td>411.935428</td>\n",
       "    </tr>\n",
       "    <tr>\n",
       "      <th>4</th>\n",
       "      <td>6</td>\n",
       "      <td>POLYGON ((109.46384 34.48646, 109.46387 34.486...</td>\n",
       "      <td>415.805952</td>\n",
       "      <td>417.567862</td>\n",
       "      <td>419.329771</td>\n",
       "    </tr>\n",
       "    <tr>\n",
       "      <th>...</th>\n",
       "      <td>...</td>\n",
       "      <td>...</td>\n",
       "      <td>...</td>\n",
       "      <td>...</td>\n",
       "      <td>...</td>\n",
       "    </tr>\n",
       "    <tr>\n",
       "      <th>204</th>\n",
       "      <td>271</td>\n",
       "      <td>POLYGON ((109.46426 34.48659, 109.46430 34.486...</td>\n",
       "      <td>1000.000000</td>\n",
       "      <td>2454.780385</td>\n",
       "      <td>3909.560770</td>\n",
       "    </tr>\n",
       "    <tr>\n",
       "      <th>205</th>\n",
       "      <td>272</td>\n",
       "      <td>POLYGON ((109.46426 34.48662, 109.46430 34.486...</td>\n",
       "      <td>391.419546</td>\n",
       "      <td>391.434546</td>\n",
       "      <td>391.449546</td>\n",
       "    </tr>\n",
       "    <tr>\n",
       "      <th>206</th>\n",
       "      <td>273</td>\n",
       "      <td>POLYGON ((109.46426 34.48665, 109.46430 34.486...</td>\n",
       "      <td>400.731394</td>\n",
       "      <td>401.042529</td>\n",
       "      <td>401.353665</td>\n",
       "    </tr>\n",
       "    <tr>\n",
       "      <th>207</th>\n",
       "      <td>274</td>\n",
       "      <td>POLYGON ((109.46426 34.48667, 109.46430 34.486...</td>\n",
       "      <td>391.637469</td>\n",
       "      <td>391.876920</td>\n",
       "      <td>392.116371</td>\n",
       "    </tr>\n",
       "    <tr>\n",
       "      <th>208</th>\n",
       "      <td>275</td>\n",
       "      <td>POLYGON ((109.46426 34.48670, 109.46430 34.486...</td>\n",
       "      <td>1000.000000</td>\n",
       "      <td>1052.822697</td>\n",
       "      <td>1105.645394</td>\n",
       "    </tr>\n",
       "  </tbody>\n",
       "</table>\n",
       "<p>209 rows × 5 columns</p>\n",
       "</div>"
      ],
      "text/plain": [
       "     index                                           geometry  height_lower  \\\n",
       "0        1  POLYGON ((109.46384 34.48632, 109.46387 34.486...    384.668112   \n",
       "1        2  POLYGON ((109.46384 34.48635, 109.46387 34.486...    406.672695   \n",
       "2        4  POLYGON ((109.46384 34.48640, 109.46387 34.486...    399.002414   \n",
       "3        5  POLYGON ((109.46384 34.48643, 109.46387 34.486...    411.485688   \n",
       "4        6  POLYGON ((109.46384 34.48646, 109.46387 34.486...    415.805952   \n",
       "..     ...                                                ...           ...   \n",
       "204    271  POLYGON ((109.46426 34.48659, 109.46430 34.486...   1000.000000   \n",
       "205    272  POLYGON ((109.46426 34.48662, 109.46430 34.486...    391.419546   \n",
       "206    273  POLYGON ((109.46426 34.48665, 109.46430 34.486...    400.731394   \n",
       "207    274  POLYGON ((109.46426 34.48667, 109.46430 34.486...    391.637469   \n",
       "208    275  POLYGON ((109.46426 34.48670, 109.46430 34.486...   1000.000000   \n",
       "\n",
       "      height_mid  height_upper  \n",
       "0     384.916117    385.164121  \n",
       "1     407.816594    408.960492  \n",
       "2     399.342909    399.683403  \n",
       "3     411.710558    411.935428  \n",
       "4     417.567862    419.329771  \n",
       "..           ...           ...  \n",
       "204  2454.780385   3909.560770  \n",
       "205   391.434546    391.449546  \n",
       "206   401.042529    401.353665  \n",
       "207   391.876920    392.116371  \n",
       "208  1052.822697   1105.645394  \n",
       "\n",
       "[209 rows x 5 columns]"
      ]
     },
     "execution_count": 67,
     "metadata": {},
     "output_type": "execute_result"
    }
   ],
   "source": [
    "grid_night_inter"
   ]
  },
  {
   "cell_type": "code",
   "execution_count": 68,
   "id": "ae3cb1d0",
   "metadata": {},
   "outputs": [
    {
     "data": {
      "text/html": [
       "<div>\n",
       "<style scoped>\n",
       "    .dataframe tbody tr th:only-of-type {\n",
       "        vertical-align: middle;\n",
       "    }\n",
       "\n",
       "    .dataframe tbody tr th {\n",
       "        vertical-align: top;\n",
       "    }\n",
       "\n",
       "    .dataframe thead th {\n",
       "        text-align: right;\n",
       "    }\n",
       "</style>\n",
       "<table border=\"1\" class=\"dataframe\">\n",
       "  <thead>\n",
       "    <tr style=\"text-align: right;\">\n",
       "      <th></th>\n",
       "      <th>index</th>\n",
       "      <th>geometry</th>\n",
       "      <th>height_lower</th>\n",
       "      <th>height_mid</th>\n",
       "      <th>height_upper</th>\n",
       "    </tr>\n",
       "  </thead>\n",
       "  <tbody>\n",
       "    <tr>\n",
       "      <th>0</th>\n",
       "      <td>7</td>\n",
       "      <td>POLYGON ((109.46383 34.48647, 109.46386 34.486...</td>\n",
       "      <td>392.065072</td>\n",
       "      <td>392.391668</td>\n",
       "      <td>392.718264</td>\n",
       "    </tr>\n",
       "    <tr>\n",
       "      <th>1</th>\n",
       "      <td>8</td>\n",
       "      <td>POLYGON ((109.46383 34.48650, 109.46386 34.486...</td>\n",
       "      <td>428.085824</td>\n",
       "      <td>428.963848</td>\n",
       "      <td>429.841871</td>\n",
       "    </tr>\n",
       "    <tr>\n",
       "      <th>2</th>\n",
       "      <td>9</td>\n",
       "      <td>POLYGON ((109.46383 34.48652, 109.46386 34.486...</td>\n",
       "      <td>406.853419</td>\n",
       "      <td>407.205114</td>\n",
       "      <td>407.556810</td>\n",
       "    </tr>\n",
       "    <tr>\n",
       "      <th>3</th>\n",
       "      <td>10</td>\n",
       "      <td>POLYGON ((109.46383 34.48655, 109.46386 34.486...</td>\n",
       "      <td>399.149112</td>\n",
       "      <td>399.505533</td>\n",
       "      <td>399.861953</td>\n",
       "    </tr>\n",
       "    <tr>\n",
       "      <th>4</th>\n",
       "      <td>11</td>\n",
       "      <td>POLYGON ((109.46383 34.48658, 109.46386 34.486...</td>\n",
       "      <td>431.897472</td>\n",
       "      <td>432.332609</td>\n",
       "      <td>432.767747</td>\n",
       "    </tr>\n",
       "    <tr>\n",
       "      <th>...</th>\n",
       "      <td>...</td>\n",
       "      <td>...</td>\n",
       "      <td>...</td>\n",
       "      <td>...</td>\n",
       "      <td>...</td>\n",
       "    </tr>\n",
       "    <tr>\n",
       "      <th>186</th>\n",
       "      <td>261</td>\n",
       "      <td>POLYGON ((109.46425 34.48666, 109.46428 34.486...</td>\n",
       "      <td>1000.000000</td>\n",
       "      <td>1052.693897</td>\n",
       "      <td>1105.387795</td>\n",
       "    </tr>\n",
       "    <tr>\n",
       "      <th>187</th>\n",
       "      <td>262</td>\n",
       "      <td>POLYGON ((109.46425 34.48669, 109.46428 34.486...</td>\n",
       "      <td>1000.000000</td>\n",
       "      <td>1052.109837</td>\n",
       "      <td>1104.219674</td>\n",
       "    </tr>\n",
       "    <tr>\n",
       "      <th>188</th>\n",
       "      <td>263</td>\n",
       "      <td>POLYGON ((109.46425 34.48671, 109.46428 34.486...</td>\n",
       "      <td>1000.000000</td>\n",
       "      <td>1052.436313</td>\n",
       "      <td>1104.872626</td>\n",
       "    </tr>\n",
       "    <tr>\n",
       "      <th>189</th>\n",
       "      <td>264</td>\n",
       "      <td>POLYGON ((109.46425 34.48674, 109.46428 34.486...</td>\n",
       "      <td>1000.000000</td>\n",
       "      <td>1052.554705</td>\n",
       "      <td>1105.109410</td>\n",
       "    </tr>\n",
       "    <tr>\n",
       "      <th>190</th>\n",
       "      <td>265</td>\n",
       "      <td>POLYGON ((109.46425 34.48677, 109.46428 34.486...</td>\n",
       "      <td>1000.000000</td>\n",
       "      <td>1052.183376</td>\n",
       "      <td>1104.366752</td>\n",
       "    </tr>\n",
       "  </tbody>\n",
       "</table>\n",
       "<p>191 rows × 5 columns</p>\n",
       "</div>"
      ],
      "text/plain": [
       "     index                                           geometry  height_lower  \\\n",
       "0        7  POLYGON ((109.46383 34.48647, 109.46386 34.486...    392.065072   \n",
       "1        8  POLYGON ((109.46383 34.48650, 109.46386 34.486...    428.085824   \n",
       "2        9  POLYGON ((109.46383 34.48652, 109.46386 34.486...    406.853419   \n",
       "3       10  POLYGON ((109.46383 34.48655, 109.46386 34.486...    399.149112   \n",
       "4       11  POLYGON ((109.46383 34.48658, 109.46386 34.486...    431.897472   \n",
       "..     ...                                                ...           ...   \n",
       "186    261  POLYGON ((109.46425 34.48666, 109.46428 34.486...   1000.000000   \n",
       "187    262  POLYGON ((109.46425 34.48669, 109.46428 34.486...   1000.000000   \n",
       "188    263  POLYGON ((109.46425 34.48671, 109.46428 34.486...   1000.000000   \n",
       "189    264  POLYGON ((109.46425 34.48674, 109.46428 34.486...   1000.000000   \n",
       "190    265  POLYGON ((109.46425 34.48677, 109.46428 34.486...   1000.000000   \n",
       "\n",
       "      height_mid  height_upper  \n",
       "0     392.391668    392.718264  \n",
       "1     428.963848    429.841871  \n",
       "2     407.205114    407.556810  \n",
       "3     399.505533    399.861953  \n",
       "4     432.332609    432.767747  \n",
       "..           ...           ...  \n",
       "186  1052.693897   1105.387795  \n",
       "187  1052.109837   1104.219674  \n",
       "188  1052.436313   1104.872626  \n",
       "189  1052.554705   1105.109410  \n",
       "190  1052.183376   1104.366752  \n",
       "\n",
       "[191 rows x 5 columns]"
      ]
     },
     "execution_count": 68,
     "metadata": {},
     "output_type": "execute_result"
    }
   ],
   "source": [
    "grid_day_inter"
   ]
  },
  {
   "cell_type": "code",
   "execution_count": 87,
   "id": "f50036b3",
   "metadata": {},
   "outputs": [],
   "source": [
    "nightgridlist = []\n",
    "for i in range (209):\n",
    "    nightgridlist.append(grid_night_inter.iloc[i].geometry)"
   ]
  },
  {
   "cell_type": "code",
   "execution_count": 88,
   "id": "d66815d5",
   "metadata": {},
   "outputs": [],
   "source": [
    "daygridlist = []\n",
    "for i in range(191):\n",
    "    if grid_day_inter.geometry.iloc[i] in nightgridlist:\n",
    "        daygridlist.append(grid_day_inter)"
   ]
  },
  {
   "cell_type": "code",
   "execution_count": 89,
   "id": "4310c83a",
   "metadata": {},
   "outputs": [
    {
     "data": {
      "text/plain": [
       "[]"
      ]
     },
     "execution_count": 89,
     "metadata": {},
     "output_type": "execute_result"
    }
   ],
   "source": [
    "daygridlist"
   ]
  },
  {
   "cell_type": "markdown",
   "id": "500e5ca1",
   "metadata": {},
   "source": [
    "## here just consider day data and night data since grids do not overlap"
   ]
  },
  {
   "cell_type": "code",
   "execution_count": 91,
   "id": "7871c608",
   "metadata": {},
   "outputs": [
    {
     "data": {
      "text/html": [
       "<div>\n",
       "<style scoped>\n",
       "    .dataframe tbody tr th:only-of-type {\n",
       "        vertical-align: middle;\n",
       "    }\n",
       "\n",
       "    .dataframe tbody tr th {\n",
       "        vertical-align: top;\n",
       "    }\n",
       "\n",
       "    .dataframe thead th {\n",
       "        text-align: right;\n",
       "    }\n",
       "</style>\n",
       "<table border=\"1\" class=\"dataframe\">\n",
       "  <thead>\n",
       "    <tr style=\"text-align: right;\">\n",
       "      <th></th>\n",
       "      <th>svid</th>\n",
       "      <th>time</th>\n",
       "      <th>Cn0DbHz</th>\n",
       "      <th>geometry</th>\n",
       "      <th>lon_id</th>\n",
       "      <th>lat_id</th>\n",
       "      <th>grid</th>\n",
       "    </tr>\n",
       "  </thead>\n",
       "  <tbody>\n",
       "    <tr>\n",
       "      <th>0</th>\n",
       "      <td>G10</td>\n",
       "      <td>2021-08-01 11:51:17</td>\n",
       "      <td>42.878216</td>\n",
       "      <td>POINT Z (109.46416 34.48673 381.00000)</td>\n",
       "      <td>10</td>\n",
       "      <td>16</td>\n",
       "      <td>(10, 16)</td>\n",
       "    </tr>\n",
       "    <tr>\n",
       "      <th>3</th>\n",
       "      <td>R08</td>\n",
       "      <td>2021-08-01 11:51:17</td>\n",
       "      <td>38.790283</td>\n",
       "      <td>POINT Z (109.46416 34.48673 381.00000)</td>\n",
       "      <td>10</td>\n",
       "      <td>16</td>\n",
       "      <td>(10, 16)</td>\n",
       "    </tr>\n",
       "    <tr>\n",
       "      <th>4</th>\n",
       "      <td>R07</td>\n",
       "      <td>2021-08-01 11:51:17</td>\n",
       "      <td>37.847214</td>\n",
       "      <td>POINT Z (109.46416 34.48673 381.00000)</td>\n",
       "      <td>10</td>\n",
       "      <td>16</td>\n",
       "      <td>(10, 16)</td>\n",
       "    </tr>\n",
       "    <tr>\n",
       "      <th>5</th>\n",
       "      <td>R16</td>\n",
       "      <td>2021-08-01 11:51:17</td>\n",
       "      <td>26.089874</td>\n",
       "      <td>POINT Z (109.46416 34.48673 381.00000)</td>\n",
       "      <td>10</td>\n",
       "      <td>16</td>\n",
       "      <td>(10, 16)</td>\n",
       "    </tr>\n",
       "    <tr>\n",
       "      <th>6</th>\n",
       "      <td>R09</td>\n",
       "      <td>2021-08-01 11:51:17</td>\n",
       "      <td>34.727238</td>\n",
       "      <td>POINT Z (109.46416 34.48673 381.00000)</td>\n",
       "      <td>10</td>\n",
       "      <td>16</td>\n",
       "      <td>(10, 16)</td>\n",
       "    </tr>\n",
       "    <tr>\n",
       "      <th>...</th>\n",
       "      <td>...</td>\n",
       "      <td>...</td>\n",
       "      <td>...</td>\n",
       "      <td>...</td>\n",
       "      <td>...</td>\n",
       "      <td>...</td>\n",
       "      <td>...</td>\n",
       "    </tr>\n",
       "    <tr>\n",
       "      <th>722</th>\n",
       "      <td>G12</td>\n",
       "      <td>2021-08-01 12:25:49</td>\n",
       "      <td>43.104897</td>\n",
       "      <td>POINT Z (109.46419 34.48628 381.00000)</td>\n",
       "      <td>10</td>\n",
       "      <td>0</td>\n",
       "      <td>(10, 0)</td>\n",
       "    </tr>\n",
       "    <tr>\n",
       "      <th>723</th>\n",
       "      <td>G10</td>\n",
       "      <td>2021-08-01 12:25:49</td>\n",
       "      <td>43.186081</td>\n",
       "      <td>POINT Z (109.46419 34.48628 381.00000)</td>\n",
       "      <td>10</td>\n",
       "      <td>0</td>\n",
       "      <td>(10, 0)</td>\n",
       "    </tr>\n",
       "    <tr>\n",
       "      <th>724</th>\n",
       "      <td>C27</td>\n",
       "      <td>2021-08-01 12:25:49</td>\n",
       "      <td>26.079788</td>\n",
       "      <td>POINT Z (109.46419 34.48628 381.00000)</td>\n",
       "      <td>10</td>\n",
       "      <td>0</td>\n",
       "      <td>(10, 0)</td>\n",
       "    </tr>\n",
       "    <tr>\n",
       "      <th>725</th>\n",
       "      <td>R16</td>\n",
       "      <td>2021-08-01 12:25:49</td>\n",
       "      <td>40.535389</td>\n",
       "      <td>POINT Z (109.46419 34.48628 381.00000)</td>\n",
       "      <td>10</td>\n",
       "      <td>0</td>\n",
       "      <td>(10, 0)</td>\n",
       "    </tr>\n",
       "    <tr>\n",
       "      <th>726</th>\n",
       "      <td>C33</td>\n",
       "      <td>2021-08-01 12:25:49</td>\n",
       "      <td>41.290794</td>\n",
       "      <td>POINT Z (109.46419 34.48628 381.00000)</td>\n",
       "      <td>10</td>\n",
       "      <td>0</td>\n",
       "      <td>(10, 0)</td>\n",
       "    </tr>\n",
       "  </tbody>\n",
       "</table>\n",
       "<p>29626 rows × 7 columns</p>\n",
       "</div>"
      ],
      "text/plain": [
       "    svid                time    Cn0DbHz  \\\n",
       "0    G10 2021-08-01 11:51:17  42.878216   \n",
       "3    R08 2021-08-01 11:51:17  38.790283   \n",
       "4    R07 2021-08-01 11:51:17  37.847214   \n",
       "5    R16 2021-08-01 11:51:17  26.089874   \n",
       "6    R09 2021-08-01 11:51:17  34.727238   \n",
       "..   ...                 ...        ...   \n",
       "722  G12 2021-08-01 12:25:49  43.104897   \n",
       "723  G10 2021-08-01 12:25:49  43.186081   \n",
       "724  C27 2021-08-01 12:25:49  26.079788   \n",
       "725  R16 2021-08-01 12:25:49  40.535389   \n",
       "726  C33 2021-08-01 12:25:49  41.290794   \n",
       "\n",
       "                                   geometry  lon_id  lat_id      grid  \n",
       "0    POINT Z (109.46416 34.48673 381.00000)      10      16  (10, 16)  \n",
       "3    POINT Z (109.46416 34.48673 381.00000)      10      16  (10, 16)  \n",
       "4    POINT Z (109.46416 34.48673 381.00000)      10      16  (10, 16)  \n",
       "5    POINT Z (109.46416 34.48673 381.00000)      10      16  (10, 16)  \n",
       "6    POINT Z (109.46416 34.48673 381.00000)      10      16  (10, 16)  \n",
       "..                                      ...     ...     ...       ...  \n",
       "722  POINT Z (109.46419 34.48628 381.00000)      10       0   (10, 0)  \n",
       "723  POINT Z (109.46419 34.48628 381.00000)      10       0   (10, 0)  \n",
       "724  POINT Z (109.46419 34.48628 381.00000)      10       0   (10, 0)  \n",
       "725  POINT Z (109.46419 34.48628 381.00000)      10       0   (10, 0)  \n",
       "726  POINT Z (109.46419 34.48628 381.00000)      10       0   (10, 0)  \n",
       "\n",
       "[29626 rows x 7 columns]"
      ]
     },
     "execution_count": 91,
     "metadata": {},
     "output_type": "execute_result"
    }
   ],
   "source": [
    "daydata"
   ]
  },
  {
   "cell_type": "code",
   "execution_count": 92,
   "id": "b102ab34",
   "metadata": {},
   "outputs": [],
   "source": [
    "obday = gm.observe(daydata)\n",
    "heightday = gm.predict(mymap,obday)"
   ]
  },
  {
   "cell_type": "code",
   "execution_count": 95,
   "id": "7de5ca29",
   "metadata": {},
   "outputs": [
    {
     "data": {
      "text/html": [
       "<div>\n",
       "<style scoped>\n",
       "    .dataframe tbody tr th:only-of-type {\n",
       "        vertical-align: middle;\n",
       "    }\n",
       "\n",
       "    .dataframe tbody tr th {\n",
       "        vertical-align: top;\n",
       "    }\n",
       "\n",
       "    .dataframe thead th {\n",
       "        text-align: right;\n",
       "    }\n",
       "</style>\n",
       "<table border=\"1\" class=\"dataframe\">\n",
       "  <thead>\n",
       "    <tr style=\"text-align: right;\">\n",
       "      <th></th>\n",
       "      <th>svid</th>\n",
       "      <th>time</th>\n",
       "      <th>Cn0DbHz</th>\n",
       "      <th>geometry</th>\n",
       "      <th>lon_id</th>\n",
       "      <th>lat_id</th>\n",
       "      <th>grid</th>\n",
       "    </tr>\n",
       "  </thead>\n",
       "  <tbody>\n",
       "    <tr>\n",
       "      <th>0</th>\n",
       "      <td>G01</td>\n",
       "      <td>2021-08-03 00:27:07</td>\n",
       "      <td>21.181335</td>\n",
       "      <td>POINT Z (109.46418 34.48666 381.00000)</td>\n",
       "      <td>10</td>\n",
       "      <td>13</td>\n",
       "      <td>(10, 13)</td>\n",
       "    </tr>\n",
       "    <tr>\n",
       "      <th>4</th>\n",
       "      <td>R03</td>\n",
       "      <td>2021-08-03 00:27:07</td>\n",
       "      <td>24.641365</td>\n",
       "      <td>POINT Z (109.46418 34.48666 381.00000)</td>\n",
       "      <td>10</td>\n",
       "      <td>13</td>\n",
       "      <td>(10, 13)</td>\n",
       "    </tr>\n",
       "    <tr>\n",
       "      <th>5</th>\n",
       "      <td>R19</td>\n",
       "      <td>2021-08-03 00:27:07</td>\n",
       "      <td>31.255043</td>\n",
       "      <td>POINT Z (109.46418 34.48666 381.00000)</td>\n",
       "      <td>10</td>\n",
       "      <td>13</td>\n",
       "      <td>(10, 13)</td>\n",
       "    </tr>\n",
       "    <tr>\n",
       "      <th>6</th>\n",
       "      <td>R16</td>\n",
       "      <td>2021-08-03 00:27:07</td>\n",
       "      <td>17.234669</td>\n",
       "      <td>POINT Z (109.46418 34.48666 381.00000)</td>\n",
       "      <td>10</td>\n",
       "      <td>13</td>\n",
       "      <td>(10, 13)</td>\n",
       "    </tr>\n",
       "    <tr>\n",
       "      <th>7</th>\n",
       "      <td>R09</td>\n",
       "      <td>2021-08-03 00:27:07</td>\n",
       "      <td>37.303123</td>\n",
       "      <td>POINT Z (109.46418 34.48666 381.00000)</td>\n",
       "      <td>10</td>\n",
       "      <td>13</td>\n",
       "      <td>(10, 13)</td>\n",
       "    </tr>\n",
       "    <tr>\n",
       "      <th>...</th>\n",
       "      <td>...</td>\n",
       "      <td>...</td>\n",
       "      <td>...</td>\n",
       "      <td>...</td>\n",
       "      <td>...</td>\n",
       "      <td>...</td>\n",
       "      <td>...</td>\n",
       "    </tr>\n",
       "    <tr>\n",
       "      <th>934</th>\n",
       "      <td>G02</td>\n",
       "      <td>2021-08-03 01:00:09</td>\n",
       "      <td>7.000000</td>\n",
       "      <td>POINT Z (109.46388 34.48631 381.00000)</td>\n",
       "      <td>1</td>\n",
       "      <td>0</td>\n",
       "      <td>(1, 0)</td>\n",
       "    </tr>\n",
       "    <tr>\n",
       "      <th>935</th>\n",
       "      <td>G01</td>\n",
       "      <td>2021-08-03 01:00:09</td>\n",
       "      <td>36.974091</td>\n",
       "      <td>POINT Z (109.46388 34.48631 381.00000)</td>\n",
       "      <td>1</td>\n",
       "      <td>0</td>\n",
       "      <td>(1, 0)</td>\n",
       "    </tr>\n",
       "    <tr>\n",
       "      <th>936</th>\n",
       "      <td>C33</td>\n",
       "      <td>2021-08-03 01:00:09</td>\n",
       "      <td>20.613083</td>\n",
       "      <td>POINT Z (109.46388 34.48631 381.00000)</td>\n",
       "      <td>1</td>\n",
       "      <td>0</td>\n",
       "      <td>(1, 0)</td>\n",
       "    </tr>\n",
       "    <tr>\n",
       "      <th>937</th>\n",
       "      <td>R02</td>\n",
       "      <td>2021-08-03 01:00:09</td>\n",
       "      <td>21.990143</td>\n",
       "      <td>POINT Z (109.46388 34.48631 381.00000)</td>\n",
       "      <td>1</td>\n",
       "      <td>0</td>\n",
       "      <td>(1, 0)</td>\n",
       "    </tr>\n",
       "    <tr>\n",
       "      <th>938</th>\n",
       "      <td>C36</td>\n",
       "      <td>2021-08-03 01:00:09</td>\n",
       "      <td>37.623322</td>\n",
       "      <td>POINT Z (109.46388 34.48631 381.00000)</td>\n",
       "      <td>1</td>\n",
       "      <td>0</td>\n",
       "      <td>(1, 0)</td>\n",
       "    </tr>\n",
       "  </tbody>\n",
       "</table>\n",
       "<p>35565 rows × 7 columns</p>\n",
       "</div>"
      ],
      "text/plain": [
       "    svid                time    Cn0DbHz  \\\n",
       "0    G01 2021-08-03 00:27:07  21.181335   \n",
       "4    R03 2021-08-03 00:27:07  24.641365   \n",
       "5    R19 2021-08-03 00:27:07  31.255043   \n",
       "6    R16 2021-08-03 00:27:07  17.234669   \n",
       "7    R09 2021-08-03 00:27:07  37.303123   \n",
       "..   ...                 ...        ...   \n",
       "934  G02 2021-08-03 01:00:09   7.000000   \n",
       "935  G01 2021-08-03 01:00:09  36.974091   \n",
       "936  C33 2021-08-03 01:00:09  20.613083   \n",
       "937  R02 2021-08-03 01:00:09  21.990143   \n",
       "938  C36 2021-08-03 01:00:09  37.623322   \n",
       "\n",
       "                                   geometry  lon_id  lat_id      grid  \n",
       "0    POINT Z (109.46418 34.48666 381.00000)      10      13  (10, 13)  \n",
       "4    POINT Z (109.46418 34.48666 381.00000)      10      13  (10, 13)  \n",
       "5    POINT Z (109.46418 34.48666 381.00000)      10      13  (10, 13)  \n",
       "6    POINT Z (109.46418 34.48666 381.00000)      10      13  (10, 13)  \n",
       "7    POINT Z (109.46418 34.48666 381.00000)      10      13  (10, 13)  \n",
       "..                                      ...     ...     ...       ...  \n",
       "934  POINT Z (109.46388 34.48631 381.00000)       1       0    (1, 0)  \n",
       "935  POINT Z (109.46388 34.48631 381.00000)       1       0    (1, 0)  \n",
       "936  POINT Z (109.46388 34.48631 381.00000)       1       0    (1, 0)  \n",
       "937  POINT Z (109.46388 34.48631 381.00000)       1       0    (1, 0)  \n",
       "938  POINT Z (109.46388 34.48631 381.00000)       1       0    (1, 0)  \n",
       "\n",
       "[35565 rows x 7 columns]"
      ]
     },
     "execution_count": 95,
     "metadata": {},
     "output_type": "execute_result"
    }
   ],
   "source": [
    "nightdata"
   ]
  },
  {
   "cell_type": "code",
   "execution_count": 96,
   "id": "6156c4a9",
   "metadata": {},
   "outputs": [],
   "source": [
    "obnight = gm.observe(nightdata)\n",
    "heightnight = gm.predict(mymap,obnight)"
   ]
  },
  {
   "cell_type": "markdown",
   "id": "ef69d793",
   "metadata": {},
   "source": [
    "### result after remove on day data"
   ]
  },
  {
   "cell_type": "code",
   "execution_count": 159,
   "id": "6c8891a1",
   "metadata": {},
   "outputs": [],
   "source": [
    "#add new columns of grid id\n",
    "list_grid = list(daydata['grid'].unique())\n",
    "list_grid = pd.Series(list_grid,name = 'grids')\n",
    "grid_day_inter['grids'] = list_grid"
   ]
  },
  {
   "cell_type": "code",
   "execution_count": 160,
   "id": "097efaa4",
   "metadata": {},
   "outputs": [],
   "source": [
    "daydatalist = []\n",
    "dayoblist = []\n",
    "dayhlist = []\n",
    "grid_day_interlist = []\n",
    "grids_list_list = []\n",
    "for i in range(500,1200,100):\n",
    "    grid_day_interlist.append(grid_day_inter[grid_day_inter['height_lower']<i])"
   ]
  },
  {
   "cell_type": "code",
   "execution_count": 161,
   "id": "aa0af9e1",
   "metadata": {},
   "outputs": [],
   "source": [
    "for i in range(7):\n",
    "    grids_list_list.append(grid_day_interlist[i]['grids'].unique())\n",
    "    daydatalist.append(daydata[daydata['grid'].isin(grids_list_list[i])])"
   ]
  },
  {
   "cell_type": "code",
   "execution_count": 162,
   "id": "c9e82ca5",
   "metadata": {},
   "outputs": [],
   "source": [
    "dayoblist = []\n",
    "dayheightlist = []\n",
    "for i in range(7):\n",
    "    dayoblist.append(gm.observe(daydatalist[i]))\n",
    "    dayheightlist.append(gm.predict(mymap,dayoblist[i].sort_values(by='Cn0DbHz')))"
   ]
  },
  {
   "cell_type": "code",
   "execution_count": 163,
   "id": "ae8f7e27",
   "metadata": {},
   "outputs": [],
   "source": [
    "dayheightlist = sampling.combine_height(dayheightlist)"
   ]
  },
  {
   "cell_type": "code",
   "execution_count": 164,
   "id": "813b5544",
   "metadata": {},
   "outputs": [
    {
     "data": {
      "text/html": [
       "<div>\n",
       "<style scoped>\n",
       "    .dataframe tbody tr th:only-of-type {\n",
       "        vertical-align: middle;\n",
       "    }\n",
       "\n",
       "    .dataframe tbody tr th {\n",
       "        vertical-align: top;\n",
       "    }\n",
       "\n",
       "    .dataframe thead th {\n",
       "        text-align: right;\n",
       "    }\n",
       "</style>\n",
       "<table border=\"1\" class=\"dataframe\">\n",
       "  <thead>\n",
       "    <tr style=\"text-align: right;\">\n",
       "      <th></th>\n",
       "      <th>lower_bound</th>\n",
       "      <th>mid_point</th>\n",
       "      <th>upper_bound</th>\n",
       "    </tr>\n",
       "  </thead>\n",
       "  <tbody>\n",
       "    <tr>\n",
       "      <th>0</th>\n",
       "      <td>545.631884</td>\n",
       "      <td>550.482414</td>\n",
       "      <td>555.332943</td>\n",
       "    </tr>\n",
       "    <tr>\n",
       "      <th>1</th>\n",
       "      <td>516.582022</td>\n",
       "      <td>517.371335</td>\n",
       "      <td>518.160648</td>\n",
       "    </tr>\n",
       "    <tr>\n",
       "      <th>2</th>\n",
       "      <td>511.083543</td>\n",
       "      <td>512.252742</td>\n",
       "      <td>513.421940</td>\n",
       "    </tr>\n",
       "    <tr>\n",
       "      <th>3</th>\n",
       "      <td>517.393543</td>\n",
       "      <td>518.578296</td>\n",
       "      <td>519.763049</td>\n",
       "    </tr>\n",
       "    <tr>\n",
       "      <th>4</th>\n",
       "      <td>559.624637</td>\n",
       "      <td>569.078282</td>\n",
       "      <td>578.531927</td>\n",
       "    </tr>\n",
       "    <tr>\n",
       "      <th>5</th>\n",
       "      <td>539.073788</td>\n",
       "      <td>545.275131</td>\n",
       "      <td>551.476475</td>\n",
       "    </tr>\n",
       "    <tr>\n",
       "      <th>6</th>\n",
       "      <td>539.073788</td>\n",
       "      <td>545.275131</td>\n",
       "      <td>551.476475</td>\n",
       "    </tr>\n",
       "  </tbody>\n",
       "</table>\n",
       "</div>"
      ],
      "text/plain": [
       "   lower_bound   mid_point  upper_bound\n",
       "0   545.631884  550.482414   555.332943\n",
       "1   516.582022  517.371335   518.160648\n",
       "2   511.083543  512.252742   513.421940\n",
       "3   517.393543  518.578296   519.763049\n",
       "4   559.624637  569.078282   578.531927\n",
       "5   539.073788  545.275131   551.476475\n",
       "6   539.073788  545.275131   551.476475"
      ]
     },
     "execution_count": 164,
     "metadata": {},
     "output_type": "execute_result"
    }
   ],
   "source": [
    "dayheightlist"
   ]
  },
  {
   "cell_type": "code",
   "execution_count": 165,
   "id": "f9fa5989",
   "metadata": {},
   "outputs": [
    {
     "data": {
      "image/png": "[encoded data removed]",
      "text/plain": [
       "<Figure size 432x288 with 2 Axes>"
      ]
     },
     "metadata": {
      "needs_background": "light"
     },
     "output_type": "display_data"
    },
    {
     "data": {
      "image/png": "[encoded data removed]",
      "text/plain": [
       "<Figure size 432x288 with 2 Axes>"
      ]
     },
     "metadata": {
      "needs_background": "light"
     },
     "output_type": "display_data"
    },
    {
     "data": {
      "image/png": "[encoded data removed]",
      "text/plain": [
       "<Figure size 432x288 with 2 Axes>"
      ]
     },
     "metadata": {
      "needs_background": "light"
     },
     "output_type": "display_data"
    },
    {
     "data": {
      "image/png": "[encoded data removed]",
      "text/plain": [
       "<Figure size 432x288 with 2 Axes>"
      ]
     },
     "metadata": {
      "needs_background": "light"
     },
     "output_type": "display_data"
    },
    {
     "data": {
      "image/png": "[encoded data removed]",
      "text/plain": [
       "<Figure size 432x288 with 2 Axes>"
      ]
     },
     "metadata": {
      "needs_background": "light"
     },
     "output_type": "display_data"
    },
    {
     "data": {
      "image/png": "[encoded data removed]",
      "text/plain": [
       "<Figure size 432x288 with 2 Axes>"
      ]
     },
     "metadata": {
      "needs_background": "light"
     },
     "output_type": "display_data"
    },
    {
     "data": {
      "image/png": "[encoded data removed]",
      "text/plain": [
       "<Figure size 432x288 with 2 Axes>"
      ]
     },
     "metadata": {
      "needs_background": "light"
     },
     "output_type": "display_data"
    }
   ],
   "source": [
    "for i in range(7):\n",
    "    ax = grid_day_interlist[i].plot(\n",
    "    column='height_lower',# Data to plot\n",
    "    cmap='rainbow',# Color palette\n",
    "    legend=True,# Add legend\n",
    ")\n",
    "    plt.title('estimated height in each grid')\n",
    "    ax.set_axis_off();"
   ]
  },
  {
   "cell_type": "markdown",
   "id": "d2f37f72",
   "metadata": {},
   "source": [
    "### result after remove on night data"
   ]
  },
  {
   "cell_type": "code",
   "execution_count": 166,
   "id": "129f0ef9",
   "metadata": {},
   "outputs": [
    {
     "name": "stdout",
     "output_type": "stream",
     "text": [
      "run time is:  0.3155338764190674\n"
     ]
    }
   ],
   "source": [
    "#add new columns of grid id\n",
    "time_start=time.time()\n",
    "list_grid = list(nightdata['grid'].unique())\n",
    "list_grid = pd.Series(list_grid,name = 'grids')\n",
    "grid_night_inter['grids'] = list_grid\n",
    "\n",
    "nightdatalist = []\n",
    "nightoblist = []\n",
    "nighthlist = []\n",
    "grid_night_interlist = []\n",
    "grids_list_list = []\n",
    "\n",
    "for i in range(500,1200,100):\n",
    "    grid_night_interlist.append(grid_night_inter[grid_night_inter['height_lower']<i])\n",
    "\n",
    "for i in range(7):\n",
    "    grids_list_list.append(grid_night_interlist[i]['grids'].unique())\n",
    "    nightdatalist.append(nightdata[nightdata['grid'].isin(grids_list_list[i])])\n",
    "time_end=time.time()\n",
    "print('run time is: ',time_end-time_start)\n",
    "\n",
    "nightoblist = []\n",
    "nightheightlist = []\n",
    "for i in range(7):\n",
    "    nightoblist.append(gm.observe(nightdatalist[i]))\n",
    "    nightheightlist.append(gm.predict(mymap,nightoblist[i].sort_values(by='Cn0DbHz')))"
   ]
  },
  {
   "cell_type": "code",
   "execution_count": 167,
   "id": "9806b931",
   "metadata": {},
   "outputs": [],
   "source": [
    "nightheightlist = sampling.combine_height(nightheightlist)"
   ]
  },
  {
   "cell_type": "code",
   "execution_count": 168,
   "id": "7778e63f",
   "metadata": {},
   "outputs": [
    {
     "data": {
      "image/png": "[encoded data removed]",
      "text/plain": [
       "<Figure size 432x288 with 2 Axes>"
      ]
     },
     "metadata": {
      "needs_background": "light"
     },
     "output_type": "display_data"
    },
    {
     "data": {
      "image/png": "[encoded data removed]",
      "text/plain": [
       "<Figure size 432x288 with 2 Axes>"
      ]
     },
     "metadata": {
      "needs_background": "light"
     },
     "output_type": "display_data"
    },
    {
     "data": {
      "image/png": "[encoded data removed]",
      "text/plain": [
       "<Figure size 432x288 with 2 Axes>"
      ]
     },
     "metadata": {
      "needs_background": "light"
     },
     "output_type": "display_data"
    },
    {
     "data": {
      "image/png": "[encoded data removed]",
      "text/plain": [
       "<Figure size 432x288 with 2 Axes>"
      ]
     },
     "metadata": {
      "needs_background": "light"
     },
     "output_type": "display_data"
    },
    {
     "data": {
      "image/png": "[encoded data removed]",
      "text/plain": [
       "<Figure size 432x288 with 2 Axes>"
      ]
     },
     "metadata": {
      "needs_background": "light"
     },
     "output_type": "display_data"
    },
    {
     "data": {
      "image/png": "[encoded data removed]",
      "text/plain": [
       "<Figure size 432x288 with 2 Axes>"
      ]
     },
     "metadata": {
      "needs_background": "light"
     },
     "output_type": "display_data"
    },
    {
     "data": {
      "image/png": "[encoded data removed]",
      "text/plain": [
       "<Figure size 432x288 with 2 Axes>"
      ]
     },
     "metadata": {
      "needs_background": "light"
     },
     "output_type": "display_data"
    }
   ],
   "source": [
    "for i in range(7):\n",
    "    ax = grid_night_interlist[i].plot(\n",
    "    column='height_lower',# Data to plot\n",
    "    cmap='rainbow',# Color palette\n",
    "    legend=True,# Add legend\n",
    ")\n",
    "    plt.title('estimated height in each grid')\n",
    "    ax.set_axis_off();"
   ]
  },
  {
   "cell_type": "code",
   "execution_count": 169,
   "id": "6cd354ed",
   "metadata": {},
   "outputs": [
    {
     "data": {
      "text/html": [
       "<div>\n",
       "<style scoped>\n",
       "    .dataframe tbody tr th:only-of-type {\n",
       "        vertical-align: middle;\n",
       "    }\n",
       "\n",
       "    .dataframe tbody tr th {\n",
       "        vertical-align: top;\n",
       "    }\n",
       "\n",
       "    .dataframe thead th {\n",
       "        text-align: right;\n",
       "    }\n",
       "</style>\n",
       "<table border=\"1\" class=\"dataframe\">\n",
       "  <thead>\n",
       "    <tr style=\"text-align: right;\">\n",
       "      <th></th>\n",
       "      <th>lower_bound</th>\n",
       "      <th>mid_point</th>\n",
       "      <th>upper_bound</th>\n",
       "    </tr>\n",
       "  </thead>\n",
       "  <tbody>\n",
       "    <tr>\n",
       "      <th>0</th>\n",
       "      <td>402.300237</td>\n",
       "      <td>402.317527</td>\n",
       "      <td>402.334816</td>\n",
       "    </tr>\n",
       "    <tr>\n",
       "      <th>1</th>\n",
       "      <td>579.015149</td>\n",
       "      <td>581.697057</td>\n",
       "      <td>584.378964</td>\n",
       "    </tr>\n",
       "    <tr>\n",
       "      <th>2</th>\n",
       "      <td>462.567549</td>\n",
       "      <td>462.742563</td>\n",
       "      <td>462.917577</td>\n",
       "    </tr>\n",
       "    <tr>\n",
       "      <th>3</th>\n",
       "      <td>555.138512</td>\n",
       "      <td>557.724113</td>\n",
       "      <td>560.309714</td>\n",
       "    </tr>\n",
       "    <tr>\n",
       "      <th>4</th>\n",
       "      <td>581.759517</td>\n",
       "      <td>585.580832</td>\n",
       "      <td>589.402148</td>\n",
       "    </tr>\n",
       "    <tr>\n",
       "      <th>5</th>\n",
       "      <td>603.045003</td>\n",
       "      <td>613.835332</td>\n",
       "      <td>624.625660</td>\n",
       "    </tr>\n",
       "    <tr>\n",
       "      <th>6</th>\n",
       "      <td>463.735036</td>\n",
       "      <td>464.042199</td>\n",
       "      <td>464.349363</td>\n",
       "    </tr>\n",
       "  </tbody>\n",
       "</table>\n",
       "</div>"
      ],
      "text/plain": [
       "   lower_bound   mid_point  upper_bound\n",
       "0   402.300237  402.317527   402.334816\n",
       "1   579.015149  581.697057   584.378964\n",
       "2   462.567549  462.742563   462.917577\n",
       "3   555.138512  557.724113   560.309714\n",
       "4   581.759517  585.580832   589.402148\n",
       "5   603.045003  613.835332   624.625660\n",
       "6   463.735036  464.042199   464.349363"
      ]
     },
     "execution_count": 169,
     "metadata": {},
     "output_type": "execute_result"
    }
   ],
   "source": [
    "nightheightlist"
   ]
  },
  {
   "cell_type": "code",
   "execution_count": 170,
   "id": "4b4271ce",
   "metadata": {},
   "outputs": [
    {
     "data": {
      "text/plain": [
       "[500, 600, 700, 800, 900, 1000, 1100]"
      ]
     },
     "execution_count": 170,
     "metadata": {},
     "output_type": "execute_result"
    }
   ],
   "source": [
    "bounds = [i for i in range(500,1200,100)]\n",
    "bounds"
   ]
  },
  {
   "cell_type": "code",
   "execution_count": 179,
   "id": "0bf6a919",
   "metadata": {},
   "outputs": [
    {
     "data": {
      "image/png": "[encoded data removed]",
      "text/plain": [
       "<Figure size 2000x1000 with 1 Axes>"
      ]
     },
     "metadata": {
      "needs_background": "light"
     },
     "output_type": "display_data"
    }
   ],
   "source": [
    "fig = plt.figure(1,(8,4),dpi = 250)    \n",
    "ax = plt.subplot(111)\n",
    "plt.sca(ax)\n",
    "\n",
    "plt.plot(bounds,dayheightlist['lower_bound'],color='g',marker = '.',label='day_lower')\n",
    "plt.plot(bounds,dayheightlist['mid_point'],color='b',marker = '.',label='day_mid')\n",
    "plt.plot(bounds,dayheightlist['upper_bound'],color='r',marker = '.',label='day_upper')\n",
    "plt.ylim(400,600)\n",
    "\n",
    "plt.title('The height after selecting fixed grid bound')\n",
    "plt.ylabel('height')\n",
    "plt.xlabel('bound')\n",
    "plt.legend()\n",
    "plt.savefig('grid_day_analysis.jpg')\n",
    "plt.show()"
   ]
  },
  {
   "cell_type": "code",
   "execution_count": 183,
   "id": "1fbc2183",
   "metadata": {},
   "outputs": [
    {
     "data": {
      "image/png": "[encoded data removed]",
      "text/plain": [
       "<Figure size 2000x1000 with 1 Axes>"
      ]
     },
     "metadata": {
      "needs_background": "light"
     },
     "output_type": "display_data"
    }
   ],
   "source": [
    "fig = plt.figure(1,(8,4),dpi = 250)    \n",
    "ax = plt.subplot(111)\n",
    "plt.sca(ax)\n",
    "\n",
    "plt.plot(bounds,nightheightlist['lower_bound'],color='g',marker = '.',label='night_lower')\n",
    "plt.plot(bounds,nightheightlist['mid_point'],color='b',marker = '.',label='night_mid')\n",
    "plt.plot(bounds,nightheightlist['upper_bound'],color='r',marker = '.',label='night_upper')\n",
    "plt.ylim(200,700)\n",
    "\n",
    "plt.title('The height after selecting fixed grid bound')\n",
    "plt.ylabel('height')\n",
    "plt.xlabel('bound')\n",
    "plt.legend()\n",
    "plt.savefig('grid_night_analysis.jpg')\n",
    "plt.show()"
   ]
  },
  {
   "cell_type": "markdown",
   "id": "e1cb6492",
   "metadata": {},
   "source": [
    "### increase the width of grid to consider all data"
   ]
  },
  {
   "cell_type": "code",
   "execution_count": 219,
   "id": "45e2c01d",
   "metadata": {},
   "outputs": [],
   "source": [
    "data_all = data_all[['svid','time','Cn0DbHz','geometry']]"
   ]
  },
  {
   "cell_type": "code",
   "execution_count": 220,
   "id": "53d21143",
   "metadata": {},
   "outputs": [
    {
     "data": {
      "text/html": [
       "<div>\n",
       "<style scoped>\n",
       "    .dataframe tbody tr th:only-of-type {\n",
       "        vertical-align: middle;\n",
       "    }\n",
       "\n",
       "    .dataframe tbody tr th {\n",
       "        vertical-align: top;\n",
       "    }\n",
       "\n",
       "    .dataframe thead th {\n",
       "        text-align: right;\n",
       "    }\n",
       "</style>\n",
       "<table border=\"1\" class=\"dataframe\">\n",
       "  <thead>\n",
       "    <tr style=\"text-align: right;\">\n",
       "      <th></th>\n",
       "      <th>svid</th>\n",
       "      <th>time</th>\n",
       "      <th>Cn0DbHz</th>\n",
       "      <th>geometry</th>\n",
       "    </tr>\n",
       "  </thead>\n",
       "  <tbody>\n",
       "    <tr>\n",
       "      <th>0</th>\n",
       "      <td>G10</td>\n",
       "      <td>2021-08-01 11:51:17</td>\n",
       "      <td>42.878216</td>\n",
       "      <td>POINT Z (109.46416 34.48673 381.00000)</td>\n",
       "    </tr>\n",
       "    <tr>\n",
       "      <th>3</th>\n",
       "      <td>R08</td>\n",
       "      <td>2021-08-01 11:51:17</td>\n",
       "      <td>38.790283</td>\n",
       "      <td>POINT Z (109.46416 34.48673 381.00000)</td>\n",
       "    </tr>\n",
       "    <tr>\n",
       "      <th>4</th>\n",
       "      <td>R07</td>\n",
       "      <td>2021-08-01 11:51:17</td>\n",
       "      <td>37.847214</td>\n",
       "      <td>POINT Z (109.46416 34.48673 381.00000)</td>\n",
       "    </tr>\n",
       "    <tr>\n",
       "      <th>5</th>\n",
       "      <td>R16</td>\n",
       "      <td>2021-08-01 11:51:17</td>\n",
       "      <td>26.089874</td>\n",
       "      <td>POINT Z (109.46416 34.48673 381.00000)</td>\n",
       "    </tr>\n",
       "    <tr>\n",
       "      <th>6</th>\n",
       "      <td>R09</td>\n",
       "      <td>2021-08-01 11:51:17</td>\n",
       "      <td>34.727238</td>\n",
       "      <td>POINT Z (109.46416 34.48673 381.00000)</td>\n",
       "    </tr>\n",
       "    <tr>\n",
       "      <th>...</th>\n",
       "      <td>...</td>\n",
       "      <td>...</td>\n",
       "      <td>...</td>\n",
       "      <td>...</td>\n",
       "    </tr>\n",
       "    <tr>\n",
       "      <th>934</th>\n",
       "      <td>G02</td>\n",
       "      <td>2021-08-03 01:00:09</td>\n",
       "      <td>7.000000</td>\n",
       "      <td>POINT Z (109.46388 34.48631 381.00000)</td>\n",
       "    </tr>\n",
       "    <tr>\n",
       "      <th>935</th>\n",
       "      <td>G01</td>\n",
       "      <td>2021-08-03 01:00:09</td>\n",
       "      <td>36.974091</td>\n",
       "      <td>POINT Z (109.46388 34.48631 381.00000)</td>\n",
       "    </tr>\n",
       "    <tr>\n",
       "      <th>936</th>\n",
       "      <td>C33</td>\n",
       "      <td>2021-08-03 01:00:09</td>\n",
       "      <td>20.613083</td>\n",
       "      <td>POINT Z (109.46388 34.48631 381.00000)</td>\n",
       "    </tr>\n",
       "    <tr>\n",
       "      <th>937</th>\n",
       "      <td>R02</td>\n",
       "      <td>2021-08-03 01:00:09</td>\n",
       "      <td>21.990143</td>\n",
       "      <td>POINT Z (109.46388 34.48631 381.00000)</td>\n",
       "    </tr>\n",
       "    <tr>\n",
       "      <th>938</th>\n",
       "      <td>C36</td>\n",
       "      <td>2021-08-03 01:00:09</td>\n",
       "      <td>37.623322</td>\n",
       "      <td>POINT Z (109.46388 34.48631 381.00000)</td>\n",
       "    </tr>\n",
       "  </tbody>\n",
       "</table>\n",
       "<p>65191 rows × 4 columns</p>\n",
       "</div>"
      ],
      "text/plain": [
       "    svid                time    Cn0DbHz  \\\n",
       "0    G10 2021-08-01 11:51:17  42.878216   \n",
       "3    R08 2021-08-01 11:51:17  38.790283   \n",
       "4    R07 2021-08-01 11:51:17  37.847214   \n",
       "5    R16 2021-08-01 11:51:17  26.089874   \n",
       "6    R09 2021-08-01 11:51:17  34.727238   \n",
       "..   ...                 ...        ...   \n",
       "934  G02 2021-08-03 01:00:09   7.000000   \n",
       "935  G01 2021-08-03 01:00:09  36.974091   \n",
       "936  C33 2021-08-03 01:00:09  20.613083   \n",
       "937  R02 2021-08-03 01:00:09  21.990143   \n",
       "938  C36 2021-08-03 01:00:09  37.623322   \n",
       "\n",
       "                                   geometry  \n",
       "0    POINT Z (109.46416 34.48673 381.00000)  \n",
       "3    POINT Z (109.46416 34.48673 381.00000)  \n",
       "4    POINT Z (109.46416 34.48673 381.00000)  \n",
       "5    POINT Z (109.46416 34.48673 381.00000)  \n",
       "6    POINT Z (109.46416 34.48673 381.00000)  \n",
       "..                                      ...  \n",
       "934  POINT Z (109.46388 34.48631 381.00000)  \n",
       "935  POINT Z (109.46388 34.48631 381.00000)  \n",
       "936  POINT Z (109.46388 34.48631 381.00000)  \n",
       "937  POINT Z (109.46388 34.48631 381.00000)  \n",
       "938  POINT Z (109.46388 34.48631 381.00000)  \n",
       "\n",
       "[65191 rows x 4 columns]"
      ]
     },
     "execution_count": 220,
     "metadata": {},
     "output_type": "execute_result"
    }
   ],
   "source": [
    "data_all"
   ]
  },
  {
   "cell_type": "code",
   "execution_count": 221,
   "id": "78ea2906",
   "metadata": {},
   "outputs": [
    {
     "name": "stdout",
     "output_type": "stream",
     "text": [
      "                                            geometry\n",
      "0  POLYGON ((109.46383 34.48628, 109.46399 34.486...\n",
      "1  POLYGON ((109.46383 34.48642, 109.46399 34.486...\n",
      "2  POLYGON ((109.46383 34.48655, 109.46399 34.486...\n",
      "3  POLYGON ((109.46383 34.48669, 109.46399 34.486...\n",
      "5  POLYGON ((109.46399 34.48628, 109.46415 34.486...\n",
      "13\n",
      "run time is:  12.736618041992188\n"
     ]
    },
    {
     "data": {
      "image/png": "[encoded data removed]",
      "text/plain": [
       "<Figure size 432x288 with 1 Axes>"
      ]
     },
     "metadata": {
      "needs_background": "light"
     },
     "output_type": "display_data"
    },
    {
     "data": {
      "image/png": "[encoded data removed]",
      "text/plain": [
       "<Figure size 432x288 with 1 Axes>"
      ]
     },
     "metadata": {
      "needs_background": "light"
     },
     "output_type": "display_data"
    }
   ],
   "source": [
    "time_start=time.time()\n",
    "all_lon_incre = sampling.grid_increment(data_all,15)[0]\n",
    "all_lat_incre = sampling.grid_increment(data_all,15)[1]\n",
    "grid_all = sampling.grid_create(data_all,all_lon_incre,all_lat_incre)\n",
    "\n",
    "#grid of all map from minimum to maximum of \n",
    "#longitude and latituide\n",
    "grid_all_all = grid_all[0]\n",
    "#grid that has intersection with gnss data\n",
    "grid_all_inter = grid_all[1]\n",
    "grid_all_all.plot()\n",
    "grid_all_inter.plot()\n",
    "\n",
    "print(grid_all_inter.head())\n",
    "print(len(grid_all_inter))\n",
    "data_all = grid_all[2]\n",
    "\n",
    "grids_all = sampling.grid(data_all)\n",
    "time_end=time.time()\n",
    "print('run time is: ',time_end-time_start)"
   ]
  },
  {
   "cell_type": "code",
   "execution_count": 222,
   "id": "fd308fd3",
   "metadata": {},
   "outputs": [
    {
     "data": {
      "text/plain": [
       "13"
      ]
     },
     "execution_count": 222,
     "metadata": {},
     "output_type": "execute_result"
    }
   ],
   "source": [
    "len(grids_all)"
   ]
  },
  {
   "cell_type": "code",
   "execution_count": 223,
   "id": "eba6d1e0",
   "metadata": {},
   "outputs": [
    {
     "data": {
      "text/html": [
       "<div>\n",
       "<style scoped>\n",
       "    .dataframe tbody tr th:only-of-type {\n",
       "        vertical-align: middle;\n",
       "    }\n",
       "\n",
       "    .dataframe tbody tr th {\n",
       "        vertical-align: top;\n",
       "    }\n",
       "\n",
       "    .dataframe thead th {\n",
       "        text-align: right;\n",
       "    }\n",
       "</style>\n",
       "<table border=\"1\" class=\"dataframe\">\n",
       "  <thead>\n",
       "    <tr style=\"text-align: right;\">\n",
       "      <th></th>\n",
       "      <th>svid</th>\n",
       "      <th>time</th>\n",
       "      <th>Cn0DbHz</th>\n",
       "      <th>geometry</th>\n",
       "      <th>lon_id</th>\n",
       "      <th>lat_id</th>\n",
       "      <th>grid</th>\n",
       "    </tr>\n",
       "  </thead>\n",
       "  <tbody>\n",
       "    <tr>\n",
       "      <th>527</th>\n",
       "      <td>R08</td>\n",
       "      <td>2021-08-01 12:15:36</td>\n",
       "      <td>35.310471</td>\n",
       "      <td>POINT Z (109.46399 34.48642 381.00000)</td>\n",
       "      <td>0</td>\n",
       "      <td>0</td>\n",
       "      <td>(0, 0)</td>\n",
       "    </tr>\n",
       "    <tr>\n",
       "      <th>530</th>\n",
       "      <td>C06</td>\n",
       "      <td>2021-08-01 12:15:36</td>\n",
       "      <td>32.161423</td>\n",
       "      <td>POINT Z (109.46399 34.48642 381.00000)</td>\n",
       "      <td>0</td>\n",
       "      <td>0</td>\n",
       "      <td>(0, 0)</td>\n",
       "    </tr>\n",
       "    <tr>\n",
       "      <th>531</th>\n",
       "      <td>C14</td>\n",
       "      <td>2021-08-01 12:15:36</td>\n",
       "      <td>26.220892</td>\n",
       "      <td>POINT Z (109.46399 34.48642 381.00000)</td>\n",
       "      <td>0</td>\n",
       "      <td>0</td>\n",
       "      <td>(0, 0)</td>\n",
       "    </tr>\n",
       "    <tr>\n",
       "      <th>532</th>\n",
       "      <td>C24</td>\n",
       "      <td>2021-08-01 12:15:36</td>\n",
       "      <td>29.278225</td>\n",
       "      <td>POINT Z (109.46399 34.48642 381.00000)</td>\n",
       "      <td>0</td>\n",
       "      <td>0</td>\n",
       "      <td>(0, 0)</td>\n",
       "    </tr>\n",
       "    <tr>\n",
       "      <th>533</th>\n",
       "      <td>C25</td>\n",
       "      <td>2021-08-01 12:15:36</td>\n",
       "      <td>43.416191</td>\n",
       "      <td>POINT Z (109.46399 34.48642 381.00000)</td>\n",
       "      <td>0</td>\n",
       "      <td>0</td>\n",
       "      <td>(0, 0)</td>\n",
       "    </tr>\n",
       "  </tbody>\n",
       "</table>\n",
       "</div>"
      ],
      "text/plain": [
       "    svid                time    Cn0DbHz  \\\n",
       "527  R08 2021-08-01 12:15:36  35.310471   \n",
       "530  C06 2021-08-01 12:15:36  32.161423   \n",
       "531  C14 2021-08-01 12:15:36  26.220892   \n",
       "532  C24 2021-08-01 12:15:36  29.278225   \n",
       "533  C25 2021-08-01 12:15:36  43.416191   \n",
       "\n",
       "                                   geometry  lon_id  lat_id    grid  \n",
       "527  POINT Z (109.46399 34.48642 381.00000)       0       0  (0, 0)  \n",
       "530  POINT Z (109.46399 34.48642 381.00000)       0       0  (0, 0)  \n",
       "531  POINT Z (109.46399 34.48642 381.00000)       0       0  (0, 0)  \n",
       "532  POINT Z (109.46399 34.48642 381.00000)       0       0  (0, 0)  \n",
       "533  POINT Z (109.46399 34.48642 381.00000)       0       0  (0, 0)  "
      ]
     },
     "execution_count": 223,
     "metadata": {},
     "output_type": "execute_result"
    }
   ],
   "source": [
    "grids_all[0].head()"
   ]
  },
  {
   "cell_type": "code",
   "execution_count": 224,
   "id": "31bff75e",
   "metadata": {},
   "outputs": [],
   "source": [
    "#divide all data to day and night\n",
    "grids_day = [0]*13\n",
    "grids_night = [0]*13\n",
    "for i in range(13):\n",
    "    grids_all[i]['day'] = grids_all[i]['time'].apply(lambda r:r.day)\n",
    "    grids_day[i] = grids_all[i][grids_all[i]['day']==1]\n",
    "    grids_night[i] = grids_all[i][grids_all[i]['day']==3]"
   ]
  },
  {
   "cell_type": "code",
   "execution_count": 243,
   "id": "bb50b4d6",
   "metadata": {},
   "outputs": [],
   "source": [
    "#check if there are empty values\n",
    "day_empty = []\n",
    "for i in range(13):\n",
    "    if grids_day[i].empty:\n",
    "        day_empty.append(i)"
   ]
  },
  {
   "cell_type": "code",
   "execution_count": 244,
   "id": "1efa6a24",
   "metadata": {},
   "outputs": [],
   "source": [
    "#check if there are empty values\n",
    "night_empty = []\n",
    "for i in range(13):\n",
    "    if grids_night[i].empty:\n",
    "        night_empty.append(i)"
   ]
  },
  {
   "cell_type": "code",
   "execution_count": 245,
   "id": "721d52bc",
   "metadata": {},
   "outputs": [
    {
     "data": {
      "text/plain": [
       "[12]"
      ]
     },
     "execution_count": 245,
     "metadata": {},
     "output_type": "execute_result"
    }
   ],
   "source": [
    "day_empty"
   ]
  },
  {
   "cell_type": "code",
   "execution_count": 246,
   "id": "5deb4591",
   "metadata": {},
   "outputs": [
    {
     "data": {
      "text/plain": [
       "[6]"
      ]
     },
     "execution_count": 246,
     "metadata": {},
     "output_type": "execute_result"
    }
   ],
   "source": [
    "night_empty"
   ]
  },
  {
   "cell_type": "code",
   "execution_count": 247,
   "id": "6142f880",
   "metadata": {},
   "outputs": [],
   "source": [
    "#create observations\n",
    "ob_grid_day = [0]*13\n",
    "for i in range(12):\n",
    "    ob_grid_day[i] = gm.observe(grids_day[i])"
   ]
  },
  {
   "cell_type": "code",
   "execution_count": 248,
   "id": "e5aee97e",
   "metadata": {},
   "outputs": [],
   "source": [
    "ob_grid_night = [0]*13\n",
    "for i in range(6):\n",
    "    ob_grid_night[i] = gm.observe(grids_night[i])\n",
    "for i in range(7,13):\n",
    "    ob_grid_night[i] = gm.observe(grids_night[i])"
   ]
  },
  {
   "cell_type": "code",
   "execution_count": 249,
   "id": "2068bedf",
   "metadata": {},
   "outputs": [],
   "source": [
    "ob_grid = [0]*13\n",
    "for i in range(6):\n",
    "    ob_grid[i] = pd.concat([ob_grid_day[i],ob_grid_night[i]])\n",
    "ob_grid[6] = ob_grid_day[6]\n",
    "for i in range(7,12):\n",
    "    ob_grid[i] = pd.concat([ob_grid_day[i],ob_grid_night[i]])\n",
    "ob_grid[12] = ob_grid_night[12]"
   ]
  },
  {
   "cell_type": "code",
   "execution_count": 250,
   "id": "1033a98a",
   "metadata": {},
   "outputs": [],
   "source": [
    "grid_height = [0]*13\n",
    "for i in range(0,13):\n",
    "    grid_height[i] = gm.predict(mymap,ob_grid[i].sort_values(by = 'Cn0DbHz'))"
   ]
  },
  {
   "cell_type": "code",
   "execution_count": 251,
   "id": "d463a76d",
   "metadata": {},
   "outputs": [],
   "source": [
    "len(grid_height)\n",
    "#combine to form dataframe\n",
    "grid_height = pd.DataFrame(pd.concat(grid_height[i] for i in range(len(data_all['grid'].unique()))))"
   ]
  },
  {
   "cell_type": "code",
   "execution_count": 252,
   "id": "3f2b8891",
   "metadata": {},
   "outputs": [
    {
     "data": {
      "text/html": [
       "<div>\n",
       "<style scoped>\n",
       "    .dataframe tbody tr th:only-of-type {\n",
       "        vertical-align: middle;\n",
       "    }\n",
       "\n",
       "    .dataframe tbody tr th {\n",
       "        vertical-align: top;\n",
       "    }\n",
       "\n",
       "    .dataframe thead th {\n",
       "        text-align: right;\n",
       "    }\n",
       "</style>\n",
       "<table border=\"1\" class=\"dataframe\">\n",
       "  <thead>\n",
       "    <tr style=\"text-align: right;\">\n",
       "      <th></th>\n",
       "      <th>index</th>\n",
       "      <th>geometry</th>\n",
       "    </tr>\n",
       "  </thead>\n",
       "  <tbody>\n",
       "    <tr>\n",
       "      <th>0</th>\n",
       "      <td>0</td>\n",
       "      <td>POLYGON ((109.46383 34.48628, 109.46399 34.486...</td>\n",
       "    </tr>\n",
       "    <tr>\n",
       "      <th>1</th>\n",
       "      <td>1</td>\n",
       "      <td>POLYGON ((109.46383 34.48642, 109.46399 34.486...</td>\n",
       "    </tr>\n",
       "    <tr>\n",
       "      <th>2</th>\n",
       "      <td>2</td>\n",
       "      <td>POLYGON ((109.46383 34.48655, 109.46399 34.486...</td>\n",
       "    </tr>\n",
       "    <tr>\n",
       "      <th>3</th>\n",
       "      <td>3</td>\n",
       "      <td>POLYGON ((109.46383 34.48669, 109.46399 34.486...</td>\n",
       "    </tr>\n",
       "    <tr>\n",
       "      <th>4</th>\n",
       "      <td>5</td>\n",
       "      <td>POLYGON ((109.46399 34.48628, 109.46415 34.486...</td>\n",
       "    </tr>\n",
       "  </tbody>\n",
       "</table>\n",
       "</div>"
      ],
      "text/plain": [
       "   index                                           geometry\n",
       "0      0  POLYGON ((109.46383 34.48628, 109.46399 34.486...\n",
       "1      1  POLYGON ((109.46383 34.48642, 109.46399 34.486...\n",
       "2      2  POLYGON ((109.46383 34.48655, 109.46399 34.486...\n",
       "3      3  POLYGON ((109.46383 34.48669, 109.46399 34.486...\n",
       "4      5  POLYGON ((109.46399 34.48628, 109.46415 34.486..."
      ]
     },
     "execution_count": 252,
     "metadata": {},
     "output_type": "execute_result"
    }
   ],
   "source": [
    "grid_height=grid_height.reset_index()\n",
    "grid_height.head()\n",
    "grid_all_inter = grid_all_inter.reset_index()\n",
    "grid_all_inter.head()"
   ]
  },
  {
   "cell_type": "code",
   "execution_count": 253,
   "id": "20e8f364",
   "metadata": {},
   "outputs": [
    {
     "data": {
      "text/plain": [
       "13"
      ]
     },
     "execution_count": 253,
     "metadata": {},
     "output_type": "execute_result"
    }
   ],
   "source": [
    "len(grid_height)"
   ]
  },
  {
   "cell_type": "code",
   "execution_count": 254,
   "id": "a64bbead",
   "metadata": {},
   "outputs": [],
   "source": [
    "#add height columns\n",
    "grid_all_inter['height_lower']=grid_height.lower_bound\n",
    "grid_all_inter['height_mid']=grid_height.mid_point\n",
    "grid_all_inter['height_upper']=grid_height.upper_bound"
   ]
  },
  {
   "cell_type": "code",
   "execution_count": 256,
   "id": "29ad2edc",
   "metadata": {},
   "outputs": [
    {
     "data": {
      "image/png": "[encoded data removed]",
      "text/plain": [
       "<Figure size 432x288 with 2 Axes>"
      ]
     },
     "metadata": {
      "needs_background": "light"
     },
     "output_type": "display_data"
    }
   ],
   "source": [
    "ax = grid_all_inter.plot(\n",
    "    column='height_lower',# Data to plot\n",
    "    cmap='rainbow',# Color palette\n",
    "    legend=True)\n",
    "plt.title('estimated height in each grid by all data')\n",
    "ax.set_axis_off();\n",
    "plt.savefig('allgrid_all.jpg')"
   ]
  },
  {
   "cell_type": "code",
   "execution_count": 257,
   "id": "d888b9ff",
   "metadata": {},
   "outputs": [],
   "source": [
    "list_grid = list(data_all['grid'].unique())\n",
    "list_grid = pd.Series(list_grid,name = 'grids')\n",
    "grid_all_inter['grids'] = list_grid"
   ]
  },
  {
   "cell_type": "code",
   "execution_count": 258,
   "id": "4b250a0f",
   "metadata": {},
   "outputs": [],
   "source": [
    "alldatalist = []\n",
    "alloblist = []\n",
    "allhlist = []\n",
    "grid_all_interlist = []\n",
    "grids_list_list = []\n",
    "\n",
    "for i in range(500,1200,100):\n",
    "    grid_all_interlist.append(grid_all_inter[grid_all_inter['height_lower']<i])"
   ]
  },
  {
   "cell_type": "code",
   "execution_count": 260,
   "id": "e3d15a19",
   "metadata": {},
   "outputs": [],
   "source": [
    "for i in range(7):\n",
    "    grids_list_list.append(grid_all_interlist[i]['grids'].unique())\n",
    "    alldatalist.append(data_all[data_all['grid'].isin(grids_list_list[i])])"
   ]
  },
  {
   "cell_type": "code",
   "execution_count": 261,
   "id": "ab066ec2",
   "metadata": {},
   "outputs": [],
   "source": [
    "grids_day = [0]*7\n",
    "grids_night = [0]*7\n",
    "for i in range(7):\n",
    "    alldatalist[i]['day'] = alldatalist[i]['time'].apply(lambda r:r.day)\n",
    "    grids_day[i] = alldatalist[i][alldatalist[i]['day']==1]\n",
    "    grids_night[i] = alldatalist[i][alldatalist[i]['day']==3]"
   ]
  },
  {
   "cell_type": "code",
   "execution_count": 278,
   "id": "d24bfcca",
   "metadata": {},
   "outputs": [],
   "source": [
    "day_empty = []\n",
    "for i in range(7):\n",
    "    if grids_day[i].empty:\n",
    "        day_empty.append(i)"
   ]
  },
  {
   "cell_type": "code",
   "execution_count": 279,
   "id": "9bfccecf",
   "metadata": {},
   "outputs": [
    {
     "data": {
      "text/plain": [
       "[]"
      ]
     },
     "execution_count": 279,
     "metadata": {},
     "output_type": "execute_result"
    }
   ],
   "source": [
    "day_empty"
   ]
  },
  {
   "cell_type": "code",
   "execution_count": 280,
   "id": "7d7894a3",
   "metadata": {},
   "outputs": [],
   "source": [
    "night_empty = []\n",
    "for i in range(7):\n",
    "    if grids_night[i].empty:\n",
    "        night_empty.append(i)"
   ]
  },
  {
   "cell_type": "code",
   "execution_count": 281,
   "id": "94c68c2a",
   "metadata": {},
   "outputs": [
    {
     "data": {
      "text/plain": [
       "[]"
      ]
     },
     "execution_count": 281,
     "metadata": {},
     "output_type": "execute_result"
    }
   ],
   "source": [
    "night_empty"
   ]
  },
  {
   "cell_type": "code",
   "execution_count": 282,
   "id": "32edfe77",
   "metadata": {},
   "outputs": [],
   "source": [
    "ob_grid_day = [0]*7\n",
    "for i in range(7):\n",
    "    ob_grid_day[i] = gm.observe(grids_day[i])"
   ]
  },
  {
   "cell_type": "code",
   "execution_count": 283,
   "id": "9a473d1e",
   "metadata": {},
   "outputs": [],
   "source": [
    "ob_grid_night = [0]*7\n",
    "for i in range(7):\n",
    "    ob_grid_night[i] = gm.observe(grids_night[i])"
   ]
  },
  {
   "cell_type": "code",
   "execution_count": 284,
   "id": "f51ff06c",
   "metadata": {},
   "outputs": [],
   "source": [
    "ob_grid_all = [0]*7\n",
    "for i in range(7):\n",
    "    ob_grid_all[i] = pd.concat([ob_grid_day[i],ob_grid_night[i]])"
   ]
  },
  {
   "cell_type": "code",
   "execution_count": 285,
   "id": "686bdd1d",
   "metadata": {},
   "outputs": [
    {
     "data": {
      "image/png": "[encoded data removed]",
      "text/plain": [
       "<Figure size 432x288 with 2 Axes>"
      ]
     },
     "metadata": {
      "needs_background": "light"
     },
     "output_type": "display_data"
    },
    {
     "data": {
      "image/png": "[encoded data removed]",
      "text/plain": [
       "<Figure size 432x288 with 2 Axes>"
      ]
     },
     "metadata": {
      "needs_background": "light"
     },
     "output_type": "display_data"
    },
    {
     "data": {
      "image/png": "[encoded data removed]",
      "text/plain": [
       "<Figure size 432x288 with 2 Axes>"
      ]
     },
     "metadata": {
      "needs_background": "light"
     },
     "output_type": "display_data"
    },
    {
     "data": {
      "image/png": "[encoded data removed]",
      "text/plain": [
       "<Figure size 432x288 with 2 Axes>"
      ]
     },
     "metadata": {
      "needs_background": "light"
     },
     "output_type": "display_data"
    },
    {
     "data": {
      "image/png": "[encoded data removed]",
      "text/plain": [
       "<Figure size 432x288 with 2 Axes>"
      ]
     },
     "metadata": {
      "needs_background": "light"
     },
     "output_type": "display_data"
    },
    {
     "data": {
      "image/png": "[encoded data removed]",
      "text/plain": [
       "<Figure size 432x288 with 2 Axes>"
      ]
     },
     "metadata": {
      "needs_background": "light"
     },
     "output_type": "display_data"
    },
    {
     "data": {
      "image/png": "[encoded data removed]",
      "text/plain": [
       "<Figure size 432x288 with 2 Axes>"
      ]
     },
     "metadata": {
      "needs_background": "light"
     },
     "output_type": "display_data"
    }
   ],
   "source": [
    "for i in range(7):\n",
    "    ax = grid_all_interlist[i].plot(\n",
    "    column='height_lower',# Data to plot\n",
    "    cmap='rainbow',# Color palette\n",
    "    legend=True,# Add legend\n",
    ")\n",
    "    plt.title('estimated height in each grid')\n",
    "    ax.set_axis_off();"
   ]
  },
  {
   "cell_type": "code",
   "execution_count": 287,
   "id": "ca028bf2",
   "metadata": {},
   "outputs": [],
   "source": [
    "allheight = [0]*7\n",
    "for i in range(7):\n",
    "    allheight[i] = gm.predict(mymap,ob_grid_all[i].sort_values(by='Cn0DbHz'))"
   ]
  },
  {
   "cell_type": "code",
   "execution_count": 288,
   "id": "74695cf5",
   "metadata": {},
   "outputs": [],
   "source": [
    "allheight = sampling.combine_height(allheight)"
   ]
  },
  {
   "cell_type": "code",
   "execution_count": 289,
   "id": "bcf3e45d",
   "metadata": {},
   "outputs": [
    {
     "data": {
      "text/html": [
       "<div>\n",
       "<style scoped>\n",
       "    .dataframe tbody tr th:only-of-type {\n",
       "        vertical-align: middle;\n",
       "    }\n",
       "\n",
       "    .dataframe tbody tr th {\n",
       "        vertical-align: top;\n",
       "    }\n",
       "\n",
       "    .dataframe thead th {\n",
       "        text-align: right;\n",
       "    }\n",
       "</style>\n",
       "<table border=\"1\" class=\"dataframe\">\n",
       "  <thead>\n",
       "    <tr style=\"text-align: right;\">\n",
       "      <th></th>\n",
       "      <th>lower_bound</th>\n",
       "      <th>mid_point</th>\n",
       "      <th>upper_bound</th>\n",
       "    </tr>\n",
       "  </thead>\n",
       "  <tbody>\n",
       "    <tr>\n",
       "      <th>0</th>\n",
       "      <td>548.523386</td>\n",
       "      <td>550.233279</td>\n",
       "      <td>551.943171</td>\n",
       "    </tr>\n",
       "    <tr>\n",
       "      <th>1</th>\n",
       "      <td>548.523386</td>\n",
       "      <td>550.233279</td>\n",
       "      <td>551.943171</td>\n",
       "    </tr>\n",
       "    <tr>\n",
       "      <th>2</th>\n",
       "      <td>548.523386</td>\n",
       "      <td>550.233279</td>\n",
       "      <td>551.943171</td>\n",
       "    </tr>\n",
       "    <tr>\n",
       "      <th>3</th>\n",
       "      <td>548.523386</td>\n",
       "      <td>550.233279</td>\n",
       "      <td>551.943171</td>\n",
       "    </tr>\n",
       "    <tr>\n",
       "      <th>4</th>\n",
       "      <td>548.523386</td>\n",
       "      <td>550.233279</td>\n",
       "      <td>551.943171</td>\n",
       "    </tr>\n",
       "    <tr>\n",
       "      <th>5</th>\n",
       "      <td>448.780035</td>\n",
       "      <td>448.925280</td>\n",
       "      <td>449.070524</td>\n",
       "    </tr>\n",
       "    <tr>\n",
       "      <th>6</th>\n",
       "      <td>511.027750</td>\n",
       "      <td>511.600543</td>\n",
       "      <td>512.173337</td>\n",
       "    </tr>\n",
       "  </tbody>\n",
       "</table>\n",
       "</div>"
      ],
      "text/plain": [
       "   lower_bound   mid_point  upper_bound\n",
       "0   548.523386  550.233279   551.943171\n",
       "1   548.523386  550.233279   551.943171\n",
       "2   548.523386  550.233279   551.943171\n",
       "3   548.523386  550.233279   551.943171\n",
       "4   548.523386  550.233279   551.943171\n",
       "5   448.780035  448.925280   449.070524\n",
       "6   511.027750  511.600543   512.173337"
      ]
     },
     "execution_count": 289,
     "metadata": {},
     "output_type": "execute_result"
    }
   ],
   "source": [
    "allheight"
   ]
  },
  {
   "cell_type": "code",
   "execution_count": 292,
   "id": "262486aa",
   "metadata": {},
   "outputs": [
    {
     "data": {
      "image/png": "[encoded data removed]",
      "text/plain": [
       "<Figure size 2000x1000 with 1 Axes>"
      ]
     },
     "metadata": {
      "needs_background": "light"
     },
     "output_type": "display_data"
    }
   ],
   "source": [
    "fig = plt.figure(1,(8,4),dpi = 250)    \n",
    "ax = plt.subplot(111)\n",
    "plt.sca(ax)\n",
    "\n",
    "plt.plot(bounds,allheight['lower_bound'],color='g',marker = '.',label='all_lower')\n",
    "plt.plot(bounds,allheight['mid_point'],color='b',marker = '.',label='all_mid')\n",
    "plt.plot(bounds,allheight['upper_bound'],color='r',marker = '.',label='all_upper')\n",
    "plt.ylim(200,700)\n",
    "\n",
    "plt.title('The height after selecting fixed grid bound')\n",
    "plt.ylabel('height')\n",
    "plt.xlabel('bound')\n",
    "plt.legend()\n",
    "plt.savefig('grid_all_analysis.jpg')\n",
    "plt.show()"
   ]
  },
  {
   "cell_type": "code",
   "execution_count": null,
   "id": "4d30f7de",
   "metadata": {},
   "outputs": [],
   "source": []
  }
 ],
 "metadata": {
  "kernelspec": {
   "display_name": "Python 3",
   "language": "python",
   "name": "python3"
  },
  "language_info": {
   "codemirror_mode": {
    "name": "ipython",
    "version": 3
   },
   "file_extension": ".py",
   "mimetype": "text/x-python",
   "name": "python",
   "nbconvert_exporter": "python",
   "pygments_lexer": "ipython3",
   "version": "3.8.8"
  }
 },
 "nbformat": 4,
 "nbformat_minor": 5
}
